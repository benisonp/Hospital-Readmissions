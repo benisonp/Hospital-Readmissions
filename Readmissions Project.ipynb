{
 "cells": [
  {
   "cell_type": "code",
   "execution_count": 598,
   "metadata": {},
   "outputs": [],
   "source": [
    "import pandas as pd\n",
    "import numpy as np\n",
    "import matplotlib.pyplot as plt\n",
    "import seaborn as sns\n",
    "\n",
    "from sklearn.neighbors import KNeighborsClassifier\n",
    "from sklearn.model_selection import train_test_split, GridSearchCV, RandomizedSearchCV\n",
    "from sklearn.linear_model import LogisticRegression\n",
    "from sklearn.preprocessing import StandardScaler, OneHotEncoder\n",
    "from sklearn.compose import ColumnTransformer\n",
    "from sklearn.pipeline import Pipeline\n",
    "from sklearn.metrics import accuracy_score, confusion_matrix, roc_auc_score, classification_report\n",
    "from sklearn.ensemble import RandomForestClassifier\n",
    "from sklearn import svm, tree\n",
    "from xgboost import XGBClassifier\n"
   ]
  },
  {
   "cell_type": "markdown",
   "metadata": {},
   "source": [
    "# Data Wrangling"
   ]
  },
  {
   "cell_type": "code",
   "execution_count": 599,
   "metadata": {},
   "outputs": [],
   "source": [
    "df = pd.read_csv('diabetic_data.csv')"
   ]
  },
  {
   "cell_type": "code",
   "execution_count": 600,
   "metadata": {},
   "outputs": [
    {
     "name": "stdout",
     "output_type": "stream",
     "text": [
      "<class 'pandas.core.frame.DataFrame'>\n",
      "RangeIndex: 101766 entries, 0 to 101765\n",
      "Data columns (total 50 columns):\n",
      "encounter_id                101766 non-null int64\n",
      "patient_nbr                 101766 non-null int64\n",
      "race                        101766 non-null object\n",
      "gender                      101766 non-null object\n",
      "age                         101766 non-null object\n",
      "weight                      101766 non-null object\n",
      "admission_type_id           101766 non-null int64\n",
      "discharge_disposition_id    101766 non-null int64\n",
      "admission_source_id         101766 non-null int64\n",
      "time_in_hospital            101766 non-null int64\n",
      "payer_code                  101766 non-null object\n",
      "medical_specialty           101766 non-null object\n",
      "num_lab_procedures          101766 non-null int64\n",
      "num_procedures              101766 non-null int64\n",
      "num_medications             101766 non-null int64\n",
      "number_outpatient           101766 non-null int64\n",
      "number_emergency            101766 non-null int64\n",
      "number_inpatient            101766 non-null int64\n",
      "diag_1                      101766 non-null object\n",
      "diag_2                      101766 non-null object\n",
      "diag_3                      101766 non-null object\n",
      "number_diagnoses            101766 non-null int64\n",
      "max_glu_serum               101766 non-null object\n",
      "A1Cresult                   101766 non-null object\n",
      "metformin                   101766 non-null object\n",
      "repaglinide                 101766 non-null object\n",
      "nateglinide                 101766 non-null object\n",
      "chlorpropamide              101766 non-null object\n",
      "glimepiride                 101766 non-null object\n",
      "acetohexamide               101766 non-null object\n",
      "glipizide                   101766 non-null object\n",
      "glyburide                   101766 non-null object\n",
      "tolbutamide                 101766 non-null object\n",
      "pioglitazone                101766 non-null object\n",
      "rosiglitazone               101766 non-null object\n",
      "acarbose                    101766 non-null object\n",
      "miglitol                    101766 non-null object\n",
      "troglitazone                101766 non-null object\n",
      "tolazamide                  101766 non-null object\n",
      "examide                     101766 non-null object\n",
      "citoglipton                 101766 non-null object\n",
      "insulin                     101766 non-null object\n",
      "glyburide-metformin         101766 non-null object\n",
      "glipizide-metformin         101766 non-null object\n",
      "glimepiride-pioglitazone    101766 non-null object\n",
      "metformin-rosiglitazone     101766 non-null object\n",
      "metformin-pioglitazone      101766 non-null object\n",
      "change                      101766 non-null object\n",
      "diabetesMed                 101766 non-null object\n",
      "readmitted                  101766 non-null object\n",
      "dtypes: int64(13), object(37)\n",
      "memory usage: 38.8+ MB\n",
      "None\n"
     ]
    }
   ],
   "source": [
    "print(df.info())"
   ]
  },
  {
   "cell_type": "markdown",
   "metadata": {},
   "source": [
    "At face value, it appears that there are no variables for which there are missing values; however, I find this extremely\n",
    "unlikely. Let's take a look at the top few rows of each variable, to get a sense for how the data is entered and for \n",
    "any cases of missing values."
   ]
  },
  {
   "cell_type": "markdown",
   "metadata": {},
   "source": [
    "### Wrangling and cleaning - categorical data"
   ]
  },
  {
   "cell_type": "code",
   "execution_count": 601,
   "metadata": {},
   "outputs": [
    {
     "name": "stdout",
     "output_type": "stream",
     "text": [
      "0          Caucasian\n",
      "1          Caucasian\n",
      "2    AfricanAmerican\n",
      "3          Caucasian\n",
      "4          Caucasian\n",
      "5          Caucasian\n",
      "6          Caucasian\n",
      "7          Caucasian\n",
      "8          Caucasian\n",
      "9          Caucasian\n",
      "Name: race, dtype: object\n",
      "0    Female\n",
      "1    Female\n",
      "2    Female\n",
      "3      Male\n",
      "4      Male\n",
      "5      Male\n",
      "6      Male\n",
      "7      Male\n",
      "8    Female\n",
      "9    Female\n",
      "Name: gender, dtype: object\n",
      "0      [0-10)\n",
      "1     [10-20)\n",
      "2     [20-30)\n",
      "3     [30-40)\n",
      "4     [40-50)\n",
      "5     [50-60)\n",
      "6     [60-70)\n",
      "7     [70-80)\n",
      "8     [80-90)\n",
      "9    [90-100)\n",
      "Name: age, dtype: object\n",
      "0    ?\n",
      "1    ?\n",
      "2    ?\n",
      "3    ?\n",
      "4    ?\n",
      "5    ?\n",
      "6    ?\n",
      "7    ?\n",
      "8    ?\n",
      "9    ?\n",
      "Name: weight, dtype: object\n",
      "0    ?\n",
      "1    ?\n",
      "2    ?\n",
      "3    ?\n",
      "4    ?\n",
      "5    ?\n",
      "6    ?\n",
      "7    ?\n",
      "8    ?\n",
      "9    ?\n",
      "Name: payer_code, dtype: object\n",
      "0    Pediatrics-Endocrinology\n",
      "1                           ?\n",
      "2                           ?\n",
      "3                           ?\n",
      "4                           ?\n",
      "5                           ?\n",
      "6                           ?\n",
      "7                           ?\n",
      "8                           ?\n",
      "9            InternalMedicine\n",
      "Name: medical_specialty, dtype: object\n",
      "0    250.83\n",
      "1       276\n",
      "2       648\n",
      "3         8\n",
      "4       197\n",
      "5       414\n",
      "6       414\n",
      "7       428\n",
      "8       398\n",
      "9       434\n",
      "Name: diag_1, dtype: object\n",
      "0         ?\n",
      "1    250.01\n",
      "2       250\n",
      "3    250.43\n",
      "4       157\n",
      "5       411\n",
      "6       411\n",
      "7       492\n",
      "8       427\n",
      "9       198\n",
      "Name: diag_2, dtype: object\n",
      "0      ?\n",
      "1    255\n",
      "2    V27\n",
      "3    403\n",
      "4    250\n",
      "5    250\n",
      "6    V45\n",
      "7    250\n",
      "8     38\n",
      "9    486\n",
      "Name: diag_3, dtype: object\n",
      "0    None\n",
      "1    None\n",
      "2    None\n",
      "3    None\n",
      "4    None\n",
      "5    None\n",
      "6    None\n",
      "7    None\n",
      "8    None\n",
      "9    None\n",
      "Name: max_glu_serum, dtype: object\n",
      "0    None\n",
      "1    None\n",
      "2    None\n",
      "3    None\n",
      "4    None\n",
      "5    None\n",
      "6    None\n",
      "7    None\n",
      "8    None\n",
      "9    None\n",
      "Name: A1Cresult, dtype: object\n",
      "0        No\n",
      "1        No\n",
      "2        No\n",
      "3        No\n",
      "4        No\n",
      "5        No\n",
      "6    Steady\n",
      "7        No\n",
      "8        No\n",
      "9        No\n",
      "Name: metformin, dtype: object\n",
      "0    No\n",
      "1    No\n",
      "2    No\n",
      "3    No\n",
      "4    No\n",
      "5    No\n",
      "6    No\n",
      "7    No\n",
      "8    No\n",
      "9    No\n",
      "Name: repaglinide, dtype: object\n",
      "0    No\n",
      "1    No\n",
      "2    No\n",
      "3    No\n",
      "4    No\n",
      "5    No\n",
      "6    No\n",
      "7    No\n",
      "8    No\n",
      "9    No\n",
      "Name: nateglinide, dtype: object\n",
      "0    No\n",
      "1    No\n",
      "2    No\n",
      "3    No\n",
      "4    No\n",
      "5    No\n",
      "6    No\n",
      "7    No\n",
      "8    No\n",
      "9    No\n",
      "Name: chlorpropamide, dtype: object\n",
      "0        No\n",
      "1        No\n",
      "2        No\n",
      "3        No\n",
      "4        No\n",
      "5        No\n",
      "6    Steady\n",
      "7        No\n",
      "8        No\n",
      "9        No\n",
      "Name: glimepiride, dtype: object\n",
      "0    No\n",
      "1    No\n",
      "2    No\n",
      "3    No\n",
      "4    No\n",
      "5    No\n",
      "6    No\n",
      "7    No\n",
      "8    No\n",
      "9    No\n",
      "Name: acetohexamide, dtype: object\n",
      "0        No\n",
      "1        No\n",
      "2    Steady\n",
      "3        No\n",
      "4    Steady\n",
      "5        No\n",
      "6        No\n",
      "7        No\n",
      "8    Steady\n",
      "9        No\n",
      "Name: glipizide, dtype: object\n",
      "0        No\n",
      "1        No\n",
      "2        No\n",
      "3        No\n",
      "4        No\n",
      "5        No\n",
      "6        No\n",
      "7    Steady\n",
      "8        No\n",
      "9        No\n",
      "Name: glyburide, dtype: object\n",
      "0    No\n",
      "1    No\n",
      "2    No\n",
      "3    No\n",
      "4    No\n",
      "5    No\n",
      "6    No\n",
      "7    No\n",
      "8    No\n",
      "9    No\n",
      "Name: tolbutamide, dtype: object\n",
      "0    No\n",
      "1    No\n",
      "2    No\n",
      "3    No\n",
      "4    No\n",
      "5    No\n",
      "6    No\n",
      "7    No\n",
      "8    No\n",
      "9    No\n",
      "Name: pioglitazone, dtype: object\n",
      "0        No\n",
      "1        No\n",
      "2        No\n",
      "3        No\n",
      "4        No\n",
      "5        No\n",
      "6        No\n",
      "7        No\n",
      "8        No\n",
      "9    Steady\n",
      "Name: rosiglitazone, dtype: object\n",
      "0    No\n",
      "1    No\n",
      "2    No\n",
      "3    No\n",
      "4    No\n",
      "5    No\n",
      "6    No\n",
      "7    No\n",
      "8    No\n",
      "9    No\n",
      "Name: acarbose, dtype: object\n",
      "0    No\n",
      "1    No\n",
      "2    No\n",
      "3    No\n",
      "4    No\n",
      "5    No\n",
      "6    No\n",
      "7    No\n",
      "8    No\n",
      "9    No\n",
      "Name: miglitol, dtype: object\n",
      "0    No\n",
      "1    No\n",
      "2    No\n",
      "3    No\n",
      "4    No\n",
      "5    No\n",
      "6    No\n",
      "7    No\n",
      "8    No\n",
      "9    No\n",
      "Name: troglitazone, dtype: object\n",
      "0    No\n",
      "1    No\n",
      "2    No\n",
      "3    No\n",
      "4    No\n",
      "5    No\n",
      "6    No\n",
      "7    No\n",
      "8    No\n",
      "9    No\n",
      "Name: tolazamide, dtype: object\n",
      "0    No\n",
      "1    No\n",
      "2    No\n",
      "3    No\n",
      "4    No\n",
      "5    No\n",
      "6    No\n",
      "7    No\n",
      "8    No\n",
      "9    No\n",
      "Name: examide, dtype: object\n",
      "0    No\n",
      "1    No\n",
      "2    No\n",
      "3    No\n",
      "4    No\n",
      "5    No\n",
      "6    No\n",
      "7    No\n",
      "8    No\n",
      "9    No\n",
      "Name: citoglipton, dtype: object\n",
      "0        No\n",
      "1        Up\n",
      "2        No\n",
      "3        Up\n",
      "4    Steady\n",
      "5    Steady\n",
      "6    Steady\n",
      "7        No\n",
      "8    Steady\n",
      "9    Steady\n",
      "Name: insulin, dtype: object\n",
      "0    No\n",
      "1    No\n",
      "2    No\n",
      "3    No\n",
      "4    No\n",
      "5    No\n",
      "6    No\n",
      "7    No\n",
      "8    No\n",
      "9    No\n",
      "Name: glyburide-metformin, dtype: object\n",
      "0    No\n",
      "1    No\n",
      "2    No\n",
      "3    No\n",
      "4    No\n",
      "5    No\n",
      "6    No\n",
      "7    No\n",
      "8    No\n",
      "9    No\n",
      "Name: glipizide-metformin, dtype: object\n",
      "0    No\n",
      "1    No\n",
      "2    No\n",
      "3    No\n",
      "4    No\n",
      "5    No\n",
      "6    No\n",
      "7    No\n",
      "8    No\n",
      "9    No\n",
      "Name: glimepiride-pioglitazone, dtype: object\n",
      "0    No\n",
      "1    No\n",
      "2    No\n",
      "3    No\n",
      "4    No\n",
      "5    No\n",
      "6    No\n",
      "7    No\n",
      "8    No\n",
      "9    No\n",
      "Name: metformin-rosiglitazone, dtype: object\n",
      "0    No\n",
      "1    No\n",
      "2    No\n",
      "3    No\n",
      "4    No\n",
      "5    No\n",
      "6    No\n",
      "7    No\n",
      "8    No\n",
      "9    No\n",
      "Name: metformin-pioglitazone, dtype: object\n",
      "0    No\n",
      "1    Ch\n",
      "2    No\n",
      "3    Ch\n",
      "4    Ch\n",
      "5    No\n",
      "6    Ch\n",
      "7    No\n",
      "8    Ch\n",
      "9    Ch\n",
      "Name: change, dtype: object\n",
      "0     No\n",
      "1    Yes\n",
      "2    Yes\n",
      "3    Yes\n",
      "4    Yes\n",
      "5    Yes\n",
      "6    Yes\n",
      "7    Yes\n",
      "8    Yes\n",
      "9    Yes\n",
      "Name: diabetesMed, dtype: object\n",
      "0     NO\n",
      "1    >30\n",
      "2     NO\n",
      "3     NO\n",
      "4     NO\n",
      "5    >30\n",
      "6     NO\n",
      "7    >30\n",
      "8     NO\n",
      "9     NO\n",
      "Name: readmitted, dtype: object\n"
     ]
    }
   ],
   "source": [
    "cat_df = df.select_dtypes(include=['object'])\n",
    "for col in cat_df.columns:\n",
    "    print(cat_df[col][0:10])"
   ]
  },
  {
   "cell_type": "markdown",
   "metadata": {},
   "source": [
    "As we can see, there are a few columns for which there is missing data, which is entered as a '?' in this case. Before we decide what to do with missing data, however, it might be worth considering just how bad the problem is for each variable."
   ]
  },
  {
   "cell_type": "code",
   "execution_count": 602,
   "metadata": {},
   "outputs": [
    {
     "name": "stdout",
     "output_type": "stream",
     "text": [
      "The percentage of missing data for variable race is 2.2335554114340743%\n",
      "The percentage of missing data for variable weight is 96.85847925633315%\n",
      "The percentage of missing data for variable payer_code is 39.5574160328597%\n",
      "The percentage of missing data for variable medical_specialty is 49.08220820313268%\n",
      "The percentage of missing data for variable diag_1 is 0.020635575732562937%\n",
      "The percentage of missing data for variable diag_2 is 0.3517874339170253%\n",
      "The percentage of missing data for variable diag_3 is 1.398305917497003%\n"
     ]
    }
   ],
   "source": [
    "for col in cat_df.columns:\n",
    "    if len(cat_df[cat_df[col]=='?'])*100/101766 > 0: #Only print variables which have more than one missing value\n",
    "        print('The percentage of missing data for variable {} is {}%'.format(col, len(cat_df[cat_df[col]=='?'])*100/101766))"
   ]
  },
  {
   "cell_type": "markdown",
   "metadata": {},
   "source": [
    "The problem appears to be extremely severe with regards to weight, with almost all the data missing. In this case I \n",
    "would recommend simply discarding the variable as there is little information to be gleaned. Similarly, payer code is unlikely to hold much medical significance, and I will discard it here. \n",
    "\n",
    "However, despite its high almost 50%) missing data, I would recommend keeping the medical specialty associated with a given patient as this can constitute valuable information for a model. In this case, I will simply impute 'Unknown' to replace the current '?' value. \n",
    "\n",
    "The same approach will be taken for the other variables with missing data, as the problem is relatively small there."
   ]
  },
  {
   "cell_type": "code",
   "execution_count": 603,
   "metadata": {},
   "outputs": [],
   "source": [
    "df = df.drop(['weight', 'payer_code'], axis=1)\n",
    "df = df.replace('?', 'Unknown')"
   ]
  },
  {
   "cell_type": "markdown",
   "metadata": {},
   "source": [
    "# Wrangling - re-grouping diagnoses"
   ]
  },
  {
   "cell_type": "markdown",
   "metadata": {},
   "source": [
    "Reading the original research paper from which this dataset was derived, the 'diag_1', 'diag_2', and 'diag_3' variables\n",
    "represent primary, secondary, and additional diagnoses associated with the patient. These variables are entered as \n",
    "numbers, but the real meaning of these numbers are categorical associations with disease types. To that end, I will \n",
    "recode these variables to make it clearer."
   ]
  },
  {
   "cell_type": "code",
   "execution_count": 604,
   "metadata": {},
   "outputs": [],
   "source": [
    "df.loc[df['diag_1'].str.contains('E|V|U', regex=True), 'diag_1'] = '10000'\n",
    "df.loc[df['diag_1'].str.contains('250'), 'diag_1'] = '250'\n",
    "df['diag_1'] = df['diag_1'].astype(int)\n",
    "df.loc[df['diag_2'].str.contains('E|V|U', regex=True), 'diag_2'] = '10000'\n",
    "df.loc[df['diag_2'].str.contains('250'), 'diag_2'] = '250'\n",
    "df['diag_2'] = df['diag_2'].astype(int)\n",
    "df.loc[df['diag_3'].str.contains('E|V|U', regex=True), 'diag_3'] = '10000'\n",
    "df.loc[df['diag_3'].str.contains('250'), 'diag_3'] = '250'\n",
    "df.loc[df['diag_3'].str.contains('365'), 'diag_3'] = '360'\n",
    "df['diag_3'] = df['diag_3'].astype(int)"
   ]
  },
  {
   "cell_type": "code",
   "execution_count": 605,
   "metadata": {},
   "outputs": [],
   "source": [
    "bins = [0, 251, 280, 398, 460, 520, 580, 630, 680, 710, 740, 760,\n",
    "        785, 786, 787, 788, 789, 800, 1000, np.inf]\n",
    "names = ['Neoplasms', 'Diabetes', 'Neoplasms', 'Other', 'Circulatory',\n",
    "         'Respiratory', 'Digestive', 'Genitourinary', 'Other', 'Neplasms',\n",
    "         'Musculoskeletal', 'Other', 'Neoplasms', 'Circulatory', 'Respiratory',\n",
    "         'Digestive', 'Genitourinary', 'Neoplasms', 'Injury']\n",
    "\n",
    "d = dict(enumerate(names, 1))\n",
    "d\n",
    "\n",
    "df['diag_1'] = np.vectorize(d.get)(np.digitize(df['diag_1'], bins))\n",
    "df['diag_2'] = np.vectorize(d.get)(np.digitize(df['diag_2'], bins))\n",
    "df['diag_3'] = np.vectorize(d.get)(np.digitize(df['diag_3'], bins))"
   ]
  },
  {
   "cell_type": "markdown",
   "metadata": {},
   "source": [
    "### Wrangling and cleaning - numerical data"
   ]
  },
  {
   "cell_type": "code",
   "execution_count": 606,
   "metadata": {},
   "outputs": [
    {
     "data": {
      "text/plain": [
       "encounter_id                0\n",
       "patient_nbr                 0\n",
       "admission_type_id           0\n",
       "discharge_disposition_id    0\n",
       "admission_source_id         0\n",
       "time_in_hospital            0\n",
       "num_lab_procedures          0\n",
       "num_procedures              0\n",
       "num_medications             0\n",
       "number_outpatient           0\n",
       "number_emergency            0\n",
       "number_inpatient            0\n",
       "number_diagnoses            0\n",
       "dtype: int64"
      ]
     },
     "execution_count": 606,
     "metadata": {},
     "output_type": "execute_result"
    }
   ],
   "source": [
    "num_df = df.select_dtypes(include=['int64', 'float64'])\n",
    "num_df.isna().sum()"
   ]
  },
  {
   "cell_type": "markdown",
   "metadata": {},
   "source": [
    "Apparently, there are no instances where there is missing data in numerical data. All the better for us! \n",
    "\n",
    "A quick processing step, which we will need later: I will convert the int64 columns to float; also, I will need\n",
    "to convert the discharge_disposition_id and admission_source_id variables from numeric to categorical."
   ]
  },
  {
   "cell_type": "code",
   "execution_count": 607,
   "metadata": {},
   "outputs": [],
   "source": [
    "df['discharge_disposition_id'] = df['discharge_disposition_id'].astype('category')\n",
    "df['admission_source_id'] = df['admission_source_id'].astype('category')\n",
    "num_vars = df.select_dtypes(include=['int64', 'float64']).columns\n",
    "for col in num_vars:\n",
    "    df[col] = df[col].astype(float)"
   ]
  },
  {
   "cell_type": "markdown",
   "metadata": {},
   "source": [
    "### Further wrangling"
   ]
  },
  {
   "cell_type": "code",
   "execution_count": 609,
   "metadata": {},
   "outputs": [
    {
     "name": "stdout",
     "output_type": "stream",
     "text": [
      "       encounter_id  patient_nbr       race  gender      age  \\\n",
      "4267     24437208.0        135.0  Caucasian  Female  [50-60)   \n",
      "4780     26264286.0        135.0  Caucasian  Female  [50-60)   \n",
      "5827     29758806.0        378.0  Caucasian  Female  [50-60)   \n",
      "67608   189899286.0        729.0  Caucasian  Female  [80-90)   \n",
      "17494    64331490.0        774.0  Caucasian  Female  [80-90)   \n",
      "\n",
      "       admission_type_id discharge_disposition_id admission_source_id  \\\n",
      "4267                 2.0                        1                   1   \n",
      "4780                 1.0                        1                   7   \n",
      "5827                 3.0                        1                   1   \n",
      "67608                1.0                        3                   7   \n",
      "17494                1.0                        1                   7   \n",
      "\n",
      "       time_in_hospital                medical_specialty     ...      \\\n",
      "4267                8.0                       Cardiology     ...       \n",
      "4780                3.0  Surgery-Cardiovascular/Thoracic     ...       \n",
      "5827                2.0                    Surgery-Neuro     ...       \n",
      "67608               4.0                 InternalMedicine     ...       \n",
      "17494               3.0                 InternalMedicine     ...       \n",
      "\n",
      "       citoglipton  insulin  glyburide-metformin  glipizide-metformin  \\\n",
      "4267            No   Steady                   No                   No   \n",
      "4780            No       No                   No                   No   \n",
      "5827            No       No                   No                   No   \n",
      "67608           No       No                   No                   No   \n",
      "17494           No       No                   No                   No   \n",
      "\n",
      "       glimepiride-pioglitazone  metformin-rosiglitazone  \\\n",
      "4267                         No                       No   \n",
      "4780                         No                       No   \n",
      "5827                         No                       No   \n",
      "67608                        No                       No   \n",
      "17494                        No                       No   \n",
      "\n",
      "      metformin-pioglitazone change diabetesMed  readmitted  \n",
      "4267                      No     Ch         Yes         <30  \n",
      "4780                      No     Ch         Yes         >30  \n",
      "5827                      No     No          No          NO  \n",
      "67608                     No     No         Yes          NO  \n",
      "17494                     No     Ch         Yes          NO  \n",
      "\n",
      "[5 rows x 48 columns]\n"
     ]
    }
   ],
   "source": [
    "df= df.sort_values(by=['patient_nbr', 'encounter_id'])\n",
    "print(df.head())"
   ]
  },
  {
   "cell_type": "markdown",
   "metadata": {},
   "source": [
    "From this quick exploration, we can see that there is a situation where there are some patients who have multiple \n",
    "encounters. This creates a difficult statistical question, as it essentially creates multiple patients who are almost\n",
    "100% correlated with another patient (i.e. themselves) with regards to demographic variables. \n",
    "\n",
    "What I will do in this case, for the sake of simplicity and as a starting case, is to keep only the first instance of individuals which have multiple hospital visits. Further, I will drop encounter_id and patient_nbr, as these are simply identifiers and not actually a source of predictive value."
   ]
  },
  {
   "cell_type": "code",
   "execution_count": 610,
   "metadata": {},
   "outputs": [],
   "source": [
    "df = df.drop_duplicates(subset=['patient_nbr'], keep='first')\n",
    "df = df.drop(['encounter_id', 'patient_nbr'],axis=1)"
   ]
  },
  {
   "cell_type": "markdown",
   "metadata": {},
   "source": [
    "# Data Approach 1 - Simple dataset - Binary Classification"
   ]
  },
  {
   "cell_type": "markdown",
   "metadata": {},
   "source": [
    "For this dataset, I will recode the admissions column to reflect only binary outcomes for readmissions: Yes and No."
   ]
  },
  {
   "cell_type": "code",
   "execution_count": 661,
   "metadata": {},
   "outputs": [],
   "source": [
    "binary_df = df.copy()\n",
    "binary_df['readmitted'] = binary_df['readmitted'].map({'<30':'YES', '>30':'YES', 'NO':'NO'}) \n",
    "\n",
    "# Export for future use\n",
    "binary_df.to_csv('binary_diabetes.csv')"
   ]
  },
  {
   "cell_type": "markdown",
   "metadata": {},
   "source": [
    "## Preprocessing"
   ]
  },
  {
   "cell_type": "code",
   "execution_count": null,
   "metadata": {},
   "outputs": [],
   "source": [
    "y = binary_df['readmitted'] \n",
    "X = binary_df.drop('readmitted', axis=1)\n",
    "X_train, X_test, y_train, y_test = train_test_split(X, y, test_size=0.3, random_state=42, stratify=y)\n",
    "\n",
    "numeric_transformer = Pipeline(steps=[('scaler', StandardScaler())])\n",
    "categorical_transformer = Pipeline(steps=[('onehot', OneHotEncoder(handle_unknown='ignore'))])\n",
    "\n",
    "numeric_features = simple_df.select_dtypes(include=['int64', 'float64']).columns\n",
    "categorical_features = simple_df.select_dtypes(include=['object']).drop(['readmitted'], axis=1).columns\n",
    "\n",
    "preprocessor = ColumnTransformer(transformers=[('num', numeric_transformer, numeric_features),\n",
    "                                              ('cat', categorical_transformer, categorical_features)])"
   ]
  },
  {
   "cell_type": "code",
   "execution_count": 614,
   "metadata": {},
   "outputs": [],
   "source": [
    "def classification_model_fit(model, parameter_grid):\n",
    "    \"\"\"Function to simplify the model fitting process\n",
    "    \"\"\"\n",
    "    clf_pipeline = Pipeline(steps=[('preprocessor', preprocessor), ('clf', model)])\n",
    "    clf_cv = GridSearchCV(clf_pipeline, parameter_grid, cv=3)\n",
    "    fitted_model = clf_cv.fit(X_train, y_train)\n",
    "    return(fitted_model)"
   ]
  },
  {
   "cell_type": "code",
   "execution_count": 644,
   "metadata": {},
   "outputs": [],
   "source": [
    "def evaluate_classification_model(model):\n",
    "    model_predictions = model.predict(X_test)\n",
    "    model_accuracy = accuracy_score(model_predictions, y_test)\n",
    "    \n",
    "    model_report = classification_report(model_predictions, y_test)\n",
    "    \n",
    "    model_roc_score = roc_auc_score(y_test, model.predict_proba(X_test)[:, 1])\n",
    "    return model_accuracy, model_report, model_roc_score"
   ]
  },
  {
   "cell_type": "markdown",
   "metadata": {},
   "source": [
    "## Model 1 - Logistic Regression"
   ]
  },
  {
   "cell_type": "code",
   "execution_count": 616,
   "metadata": {},
   "outputs": [],
   "source": [
    "# Fitting the model\n",
    "simple_logreg_params = {'clf__penalty':['l1','l2'], 'clf__C':np.linspace(0.5,1.5,5), 'clf__solver':['liblinear']}\n",
    "simple_logreg = classification_model_fit(LogisticRegression(), simple_logreg_params)"
   ]
  },
  {
   "cell_type": "code",
   "execution_count": 639,
   "metadata": {},
   "outputs": [],
   "source": [
    "#Extracting coefficients\n",
    "simple_logreg_coef = simple_logreg.best_estimator_.named_steps['clf'].coef_"
   ]
  },
  {
   "cell_type": "code",
   "execution_count": 650,
   "metadata": {},
   "outputs": [
    {
     "name": "stdout",
     "output_type": "stream",
     "text": [
      "The accuracy of the logistic regression classifier is 0.6300335570469798\n",
      "The classification report of the logistic regression classifier is\n",
      "               precision    recall  f1-score   support\n",
      "\n",
      "          NO       0.90      0.64      0.74     18212\n",
      "         YES       0.23      0.60      0.33      3244\n",
      "\n",
      "   micro avg       0.63      0.63      0.63     21456\n",
      "   macro avg       0.56      0.62      0.54     21456\n",
      "weighted avg       0.80      0.63      0.68     21456\n",
      "\n",
      "The ROC-AUC score of the logistic regression classifier is 0.6363374555755896\n"
     ]
    }
   ],
   "source": [
    "# Evaluating the model\n",
    "logreg_acc, logreg_classification, logreg_roc = evaluate_classification_model(simple_logreg)\n",
    "print(\"The accuracy of the logistic regression classifier is {}\".format(logreg_acc))\n",
    "print(\"The classification report of the logistic regression classifier is\\n {}\".format(logreg_classification))\n",
    "print(\"The ROC-AUC score of the logistic regression classifier is {}\".format(logreg_roc))"
   ]
  },
  {
   "cell_type": "code",
   "execution_count": 562,
   "metadata": {},
   "outputs": [],
   "source": [
    "onehotfeatures = simple_logreg.best_estimator_.named_steps['preprocessor'].transformers_[1][1].named_steps['onehot'].get_feature_names(categorical_features)\n",
    "_ = list(numeric_features.copy())\n",
    "\n",
    "test = [str(i) for i in onehotfeatures]\n",
    "for i in test:\n",
    "    _.append(i)"
   ]
  },
  {
   "cell_type": "markdown",
   "metadata": {},
   "source": [
    "## Model 2 - XGBClassifier"
   ]
  },
  {
   "cell_type": "code",
   "execution_count": 651,
   "metadata": {},
   "outputs": [],
   "source": [
    "simple_xgb_params = {'clf__max_depth':[10, 20, 30, 40, 50], 'clf__objective':['binary:logistic']}\n",
    "simple_xgb = classification_model_fit(XGBClassifier(), simple_xgb_params)"
   ]
  },
  {
   "cell_type": "code",
   "execution_count": null,
   "metadata": {},
   "outputs": [],
   "source": [
    "#Extracting feature importances\n",
    "simple_logreg_coef = simple_logreg.best_estimator_.named_steps['clf']."
   ]
  },
  {
   "cell_type": "code",
   "execution_count": 652,
   "metadata": {},
   "outputs": [
    {
     "name": "stdout",
     "output_type": "stream",
     "text": [
      "The accuracy of the XGBoost classifier is 0.6313851603281133\n",
      "The classification report of the XGBoost classifier is\n",
      "               precision    recall  f1-score   support\n",
      "\n",
      "          NO       0.84      0.65      0.73     16771\n",
      "         YES       0.31      0.57      0.40      4685\n",
      "\n",
      "   micro avg       0.63      0.63      0.63     21456\n",
      "   macro avg       0.58      0.61      0.57     21456\n",
      "weighted avg       0.73      0.63      0.66     21456\n",
      "\n",
      "The ROC-AUC score of the XGBoost classifier is 0.6438421507574617\n"
     ]
    }
   ],
   "source": [
    "# Evaluating the model\n",
    "simple_xgb_acc, simple_xgb_classification, simple_xgb_roc = evaluate_classification_model(simple_xgb)\n",
    "print(\"The accuracy of the XGBoost classifier is {}\".format(simple_xgb_acc))\n",
    "print(\"The classification report of the XGBoost classifier is\\n {}\".format(simple_xgb_classification))\n",
    "print(\"The ROC-AUC score of the XGBoost classifier is {}\".format(simple_xgb_roc))"
   ]
  },
  {
   "cell_type": "markdown",
   "metadata": {},
   "source": [
    "## Model 3 - Random Forest"
   ]
  },
  {
   "cell_type": "code",
   "execution_count": 653,
   "metadata": {},
   "outputs": [],
   "source": [
    "simple_rf_params = {'clf__n_estimators': [200, 300, 400], 'clf__max_depth': [10, 20, 30, 40, 50], \n",
    "             'clf__max_features': ['auto', 'sqrt'], 'clf__class_weight':['balanced']}\n",
    "simple_rf = classification_model_fit(RandomForestClassifier(), simple_rf_params)"
   ]
  },
  {
   "cell_type": "code",
   "execution_count": null,
   "metadata": {},
   "outputs": [],
   "source": [
    "#Extracting coefficients\n",
    "simple_logreg_coef = simple_logreg.best_estimator_.named_steps['clf'].coef_"
   ]
  },
  {
   "cell_type": "code",
   "execution_count": 654,
   "metadata": {},
   "outputs": [
    {
     "name": "stdout",
     "output_type": "stream",
     "text": [
      "The accuracy of the Random Forest classifier is 0.627703206562267\n",
      "The classification report of the Random Forest classifier is\n",
      "               precision    recall  f1-score   support\n",
      "\n",
      "          NO       0.82      0.65      0.73     16278\n",
      "         YES       0.34      0.56      0.42      5178\n",
      "\n",
      "   micro avg       0.63      0.63      0.63     21456\n",
      "   macro avg       0.58      0.60      0.57     21456\n",
      "weighted avg       0.70      0.63      0.65     21456\n",
      "\n",
      "The ROC-AUC score of the Random Forest classifier is 0.6432134647271631\n"
     ]
    }
   ],
   "source": [
    "# Evaluating the model\n",
    "simple_rf_acc, simple_rf_classification, simple_rf_roc = evaluate_classification_model(simple_rf)\n",
    "print(\"The accuracy of the Random Forest classifier is {}\".format(simple_rf_acc))\n",
    "print(\"The classification report of the Random Forest classifier is\\n {}\".format(simple_rf_classification))\n",
    "print(\"The ROC-AUC score of the Random Forest classifier is {}\".format(simple_rf_roc))"
   ]
  },
  {
   "cell_type": "markdown",
   "metadata": {},
   "source": [
    "# Data Approach 2 - Multiclass problem"
   ]
  },
  {
   "cell_type": "markdown",
   "metadata": {},
   "source": [
    "## Preprocessing"
   ]
  },
  {
   "cell_type": "code",
   "execution_count": 92,
   "metadata": {},
   "outputs": [],
   "source": [
    "y = df['readmitted'] \n",
    "X = df.drop('readmitted', axis=1)\n",
    "X_train, X_test, y_train, y_test = train_test_split(X, y, test_size=0.3, random_state=42, stratify=y)\n",
    "\n",
    "numeric_transformer = Pipeline(steps=[('scaler', StandardScaler())])\n",
    "categorical_transformer = Pipeline(steps=[('onehot', OneHotEncoder(handle_unknown='ignore'))])\n",
    "\n",
    "numeric_features = df.select_dtypes(include=['int64', 'float64']).columns\n",
    "categorical_features = df.select_dtypes(include=['object']).drop(['readmitted'], axis=1).columns\n",
    "\n",
    "preprocessor = ColumnTransformer(transformers=[('num', numeric_transformer, numeric_features),\n",
    "                                              ('cat', categorical_transformer, categorical_features)])"
   ]
  },
  {
   "cell_type": "markdown",
   "metadata": {},
   "source": [
    "## Model #1 - XGBoost Classifier"
   ]
  },
  {
   "cell_type": "code",
   "execution_count": 60,
   "metadata": {},
   "outputs": [
    {
     "data": {
      "text/plain": [
       "GridSearchCV(cv=3, error_score='raise-deprecating',\n",
       "       estimator=Pipeline(memory=None,\n",
       "     steps=[('preprocessor', ColumnTransformer(n_jobs=None, remainder='drop', sparse_threshold=0.3,\n",
       "         transformer_weights=None,\n",
       "         transformers=[('num', Pipeline(memory=None,\n",
       "     steps=[('scaler', StandardScaler(copy=True, with_mean=True, with_std=True))]), Index(['encounter_id', 'patient_n...\n",
       "       reg_lambda=1, scale_pos_weight=1, seed=None, silent=None,\n",
       "       subsample=1, verbosity=1))]),\n",
       "       fit_params=None, iid='warn', n_jobs=None,\n",
       "       param_grid={'xgb_clf__max_depth': [10, 20, 30, 40, 50], 'xgb_clf__objective': ['multi:softprob'], 'xgb_clf__num_class': [3]},\n",
       "       pre_dispatch='2*n_jobs', refit=True, return_train_score='warn',\n",
       "       scoring=None, verbose=0)"
      ]
     },
     "execution_count": 60,
     "metadata": {},
     "output_type": "execute_result"
    }
   ],
   "source": [
    "xgb_pipeline = Pipeline(steps=[('preprocessor', preprocessor), ('xgb_clf', XGBClassifier())])\n",
    "xgb_params = {'xgb_clf__max_depth':[10, 20, 30, 40, 50], 'xgb_clf__objective':['multi:softprob'], \n",
    "              'xgb_clf__num_class':[3]}\n",
    "# Tune parameters\n",
    "xgb_cv = GridSearchCV(xgb_pipeline, xgb_params, cv = 3)\n",
    "# Fit pipeline to training set\n",
    "xgb_cv.fit(X_train, y_train)"
   ]
  },
  {
   "cell_type": "code",
   "execution_count": 113,
   "metadata": {},
   "outputs": [
    {
     "name": "stdout",
     "output_type": "stream",
     "text": [
      "{'xgb_clf__max_depth': 10, 'xgb_clf__num_class': 3, 'xgb_clf__objective': 'multi:softprob'}\n"
     ]
    }
   ],
   "source": [
    "print(xgb_cv.best_params_)\n",
    "\n",
    "tuned_xgb = Pipeline(steps=[('preprocessor', preprocessor), ('xgb_clf', XGBClassifier(max_depth=10, num_class=3,\n",
    "                                                                                      objective='multi:softprob'))])\n",
    "tuned_xgb.fit(X_train, y_train)\n",
    "importances = tuned_xgb.named_steps['xgb_clf'].feature_importances_ # Extract feature importances"
   ]
  },
  {
   "cell_type": "markdown",
   "metadata": {},
   "source": [
    "### Evaluate the model"
   ]
  },
  {
   "cell_type": "code",
   "execution_count": 69,
   "metadata": {},
   "outputs": [
    {
     "name": "stdout",
     "output_type": "stream",
     "text": [
      "Accuracy of XGBClassifier is 0.6369313944817301\n",
      "Classification report of XGBClassifier is \n",
      "               precision    recall  f1-score   support\n",
      "\n",
      "         <30       0.03      0.43      0.06       142\n",
      "         >30       0.34      0.53      0.41      4266\n",
      "          NO       0.88      0.67      0.76     17048\n",
      "\n",
      "   micro avg       0.64      0.64      0.64     21456\n",
      "   macro avg       0.42      0.54      0.41     21456\n",
      "weighted avg       0.77      0.64      0.68     21456\n",
      "\n"
     ]
    }
   ],
   "source": [
    "xgb_ypred = xgb_cv.predict(X_test)\n",
    "xgb_acc = accuracy_score(xgb_ypred, y_test)\n",
    "print('Accuracy of XGBClassifier is {}'.format(xgb_acc))\n",
    "xgb_report = classification_report(xgb_ypred, y_test)\n",
    "print('Classification report of XGBClassifier is \\n {}'.format(xgb_report))"
   ]
  },
  {
   "cell_type": "markdown",
   "metadata": {},
   "source": [
    "Something concerning for me is the low f1-score for the class '<30'. The poorer performance makes sense given that those \n",
    "patients are the significant minority and as such, have a very low precision score. I will note that the recall for\n",
    "this minority group is 0.43; not fantastic, but much better than what one would imagine just looking at the f1-score. \n",
    "\n",
    "As predicting this minority group of readmitted patients is where we should placing our emphasis anyway, I am quite satisfied with the idea of a model that has lower precision but high recall for our purposes. "
   ]
  },
  {
   "cell_type": "code",
   "execution_count": 78,
   "metadata": {},
   "outputs": [],
   "source": [
    "xgb_feature_importances = xgb_cv.best_estimator_.named_steps['xgb_clf'].feature_importances_"
   ]
  },
  {
   "cell_type": "markdown",
   "metadata": {},
   "source": [
    "# Model #2 - Random Forest Classifier (weighted classes)"
   ]
  },
  {
   "cell_type": "code",
   "execution_count": 72,
   "metadata": {},
   "outputs": [
    {
     "name": "stdout",
     "output_type": "stream",
     "text": [
      "{'rf_clf__class_weight': 'balanced', 'rf_clf__max_depth': 40, 'rf_clf__max_features': 'auto', 'rf_clf__n_estimators': 400}\n"
     ]
    }
   ],
   "source": [
    "rf_pipeline = Pipeline(steps=[('preprocessor', preprocessor), ('rf_clf', RandomForestClassifier())])\n",
    "rf_params = {'rf_clf__n_estimators': [200, 300, 400],\n",
    "            'rf_clf__max_depth': [10, 20, 30, 40, 50],\n",
    "            'rf_clf__max_features': ['auto', 'sqrt'],\n",
    "            'rf_clf__class_weight':['balanced']}\n",
    "# Tune parameters\n",
    "rf_cv = GridSearchCV(rf_pipeline, rf_params, cv = 3)\n",
    "# Fit pipeline to training set\n",
    "rf_cv.fit(X_train, y_train)\n",
    "\n",
    "print(rf_cv.best_params_)"
   ]
  },
  {
   "cell_type": "markdown",
   "metadata": {},
   "source": [
    "### Evaluating the Random Forest model"
   ]
  },
  {
   "cell_type": "code",
   "execution_count": 75,
   "metadata": {},
   "outputs": [
    {
     "name": "stdout",
     "output_type": "stream",
     "text": [
      "0.631851230425056\n",
      "Confusion matrix of XGBClassifier is \n",
      "               precision    recall  f1-score   support\n",
      "\n",
      "         <30       0.01      0.36      0.03        74\n",
      "         >30       0.34      0.51      0.41      4435\n",
      "          NO       0.87      0.66      0.75     16947\n",
      "\n",
      "   micro avg       0.63      0.63      0.63     21456\n",
      "   macro avg       0.41      0.51      0.40     21456\n",
      "weighted avg       0.76      0.63      0.68     21456\n",
      "\n"
     ]
    }
   ],
   "source": [
    "rf_ypred = rf_cv.predict(X_test)\n",
    "rf_acc = accuracy_score(rf_ypred, y_test)\n",
    "print(rf_acc)\n",
    "rf_report = classification_report(rf_ypred, y_test)\n",
    "print('Confusion matrix of XGBClassifier is \\n {}'.format(rf_report))"
   ]
  },
  {
   "cell_type": "markdown",
   "metadata": {},
   "source": [
    "Similar to the XGBoost model, the f1-score gives a somewhat misleading picture of what is happening in the model.\n",
    "Like before, the recall for the smallest class (<30 days) is much higher than its f1-score would suggest.\n",
    "\n",
    "However, we should note that the Random Forest model, evaluated on the recall metric, ends up performing worse than\n",
    "XGBoost."
   ]
  },
  {
   "cell_type": "code",
   "execution_count": 470,
   "metadata": {},
   "outputs": [
    {
     "data": {
      "text/plain": [
       "array(['x0_AfricanAmerican', 'x0_Asian', 'x0_Caucasian', ..., 'x33_No',\n",
       "       'x34_No', 'x34_Yes'], dtype=object)"
      ]
     },
     "execution_count": 470,
     "metadata": {},
     "output_type": "execute_result"
    }
   ],
   "source": [
    "tuned_xgb.named_steps['preprocessor'].transformers_[1][1].named_steps['onehot'].get_feature_names()"
   ]
  },
  {
   "cell_type": "code",
   "execution_count": 517,
   "metadata": {},
   "outputs": [
    {
     "data": {
      "text/plain": [
       "11"
      ]
     },
     "execution_count": 517,
     "metadata": {},
     "output_type": "execute_result"
    }
   ],
   "source": [
    "len(num_vars)"
   ]
  },
  {
   "cell_type": "code",
   "execution_count": 512,
   "metadata": {},
   "outputs": [
    {
     "name": "stdout",
     "output_type": "stream",
     "text": [
      "2244\n",
      "2242\n"
     ]
    }
   ],
   "source": [
    "print(len(importances))\n",
    "print(len(feature_names))"
   ]
  },
  {
   "cell_type": "code",
   "execution_count": 509,
   "metadata": {},
   "outputs": [
    {
     "ename": "ValueError",
     "evalue": "arrays must all be same length",
     "output_type": "error",
     "traceback": [
      "\u001b[0;31m---------------------------------------------------------------------------\u001b[0m",
      "\u001b[0;31mValueError\u001b[0m                                Traceback (most recent call last)",
      "\u001b[0;32m<ipython-input-509-1d29587b62a3>\u001b[0m in \u001b[0;36m<module>\u001b[0;34m\u001b[0m\n\u001b[1;32m      8\u001b[0m \u001b[0;34m\u001b[0m\u001b[0m\n\u001b[1;32m      9\u001b[0m xgb_importance_df = pd.DataFrame({\"Feature Names\": feature_names,\n\u001b[0;32m---> 10\u001b[0;31m                                      \"XGB Importances\":importances})\n\u001b[0m",
      "\u001b[0;32m~/anaconda3/lib/python3.7/site-packages/pandas/core/frame.py\u001b[0m in \u001b[0;36m__init__\u001b[0;34m(self, data, index, columns, dtype, copy)\u001b[0m\n\u001b[1;32m    346\u001b[0m                                  dtype=dtype, copy=copy)\n\u001b[1;32m    347\u001b[0m         \u001b[0;32melif\u001b[0m \u001b[0misinstance\u001b[0m\u001b[0;34m(\u001b[0m\u001b[0mdata\u001b[0m\u001b[0;34m,\u001b[0m \u001b[0mdict\u001b[0m\u001b[0;34m)\u001b[0m\u001b[0;34m:\u001b[0m\u001b[0;34m\u001b[0m\u001b[0;34m\u001b[0m\u001b[0m\n\u001b[0;32m--> 348\u001b[0;31m             \u001b[0mmgr\u001b[0m \u001b[0;34m=\u001b[0m \u001b[0mself\u001b[0m\u001b[0;34m.\u001b[0m\u001b[0m_init_dict\u001b[0m\u001b[0;34m(\u001b[0m\u001b[0mdata\u001b[0m\u001b[0;34m,\u001b[0m \u001b[0mindex\u001b[0m\u001b[0;34m,\u001b[0m \u001b[0mcolumns\u001b[0m\u001b[0;34m,\u001b[0m \u001b[0mdtype\u001b[0m\u001b[0;34m=\u001b[0m\u001b[0mdtype\u001b[0m\u001b[0;34m)\u001b[0m\u001b[0;34m\u001b[0m\u001b[0;34m\u001b[0m\u001b[0m\n\u001b[0m\u001b[1;32m    349\u001b[0m         \u001b[0;32melif\u001b[0m \u001b[0misinstance\u001b[0m\u001b[0;34m(\u001b[0m\u001b[0mdata\u001b[0m\u001b[0;34m,\u001b[0m \u001b[0mma\u001b[0m\u001b[0;34m.\u001b[0m\u001b[0mMaskedArray\u001b[0m\u001b[0;34m)\u001b[0m\u001b[0;34m:\u001b[0m\u001b[0;34m\u001b[0m\u001b[0;34m\u001b[0m\u001b[0m\n\u001b[1;32m    350\u001b[0m             \u001b[0;32mimport\u001b[0m \u001b[0mnumpy\u001b[0m\u001b[0;34m.\u001b[0m\u001b[0mma\u001b[0m\u001b[0;34m.\u001b[0m\u001b[0mmrecords\u001b[0m \u001b[0;32mas\u001b[0m \u001b[0mmrecords\u001b[0m\u001b[0;34m\u001b[0m\u001b[0;34m\u001b[0m\u001b[0m\n",
      "\u001b[0;32m~/anaconda3/lib/python3.7/site-packages/pandas/core/frame.py\u001b[0m in \u001b[0;36m_init_dict\u001b[0;34m(self, data, index, columns, dtype)\u001b[0m\n\u001b[1;32m    457\u001b[0m             \u001b[0marrays\u001b[0m \u001b[0;34m=\u001b[0m \u001b[0;34m[\u001b[0m\u001b[0mdata\u001b[0m\u001b[0;34m[\u001b[0m\u001b[0mk\u001b[0m\u001b[0;34m]\u001b[0m \u001b[0;32mfor\u001b[0m \u001b[0mk\u001b[0m \u001b[0;32min\u001b[0m \u001b[0mkeys\u001b[0m\u001b[0;34m]\u001b[0m\u001b[0;34m\u001b[0m\u001b[0;34m\u001b[0m\u001b[0m\n\u001b[1;32m    458\u001b[0m \u001b[0;34m\u001b[0m\u001b[0m\n\u001b[0;32m--> 459\u001b[0;31m         \u001b[0;32mreturn\u001b[0m \u001b[0m_arrays_to_mgr\u001b[0m\u001b[0;34m(\u001b[0m\u001b[0marrays\u001b[0m\u001b[0;34m,\u001b[0m \u001b[0mdata_names\u001b[0m\u001b[0;34m,\u001b[0m \u001b[0mindex\u001b[0m\u001b[0;34m,\u001b[0m \u001b[0mcolumns\u001b[0m\u001b[0;34m,\u001b[0m \u001b[0mdtype\u001b[0m\u001b[0;34m=\u001b[0m\u001b[0mdtype\u001b[0m\u001b[0;34m)\u001b[0m\u001b[0;34m\u001b[0m\u001b[0;34m\u001b[0m\u001b[0m\n\u001b[0m\u001b[1;32m    460\u001b[0m \u001b[0;34m\u001b[0m\u001b[0m\n\u001b[1;32m    461\u001b[0m     \u001b[0;32mdef\u001b[0m \u001b[0m_init_ndarray\u001b[0m\u001b[0;34m(\u001b[0m\u001b[0mself\u001b[0m\u001b[0;34m,\u001b[0m \u001b[0mvalues\u001b[0m\u001b[0;34m,\u001b[0m \u001b[0mindex\u001b[0m\u001b[0;34m,\u001b[0m \u001b[0mcolumns\u001b[0m\u001b[0;34m,\u001b[0m \u001b[0mdtype\u001b[0m\u001b[0;34m=\u001b[0m\u001b[0;32mNone\u001b[0m\u001b[0;34m,\u001b[0m \u001b[0mcopy\u001b[0m\u001b[0;34m=\u001b[0m\u001b[0;32mFalse\u001b[0m\u001b[0;34m)\u001b[0m\u001b[0;34m:\u001b[0m\u001b[0;34m\u001b[0m\u001b[0;34m\u001b[0m\u001b[0m\n",
      "\u001b[0;32m~/anaconda3/lib/python3.7/site-packages/pandas/core/frame.py\u001b[0m in \u001b[0;36m_arrays_to_mgr\u001b[0;34m(arrays, arr_names, index, columns, dtype)\u001b[0m\n\u001b[1;32m   7354\u001b[0m     \u001b[0;31m# figure out the index, if necessary\u001b[0m\u001b[0;34m\u001b[0m\u001b[0;34m\u001b[0m\u001b[0;34m\u001b[0m\u001b[0m\n\u001b[1;32m   7355\u001b[0m     \u001b[0;32mif\u001b[0m \u001b[0mindex\u001b[0m \u001b[0;32mis\u001b[0m \u001b[0;32mNone\u001b[0m\u001b[0;34m:\u001b[0m\u001b[0;34m\u001b[0m\u001b[0;34m\u001b[0m\u001b[0m\n\u001b[0;32m-> 7356\u001b[0;31m         \u001b[0mindex\u001b[0m \u001b[0;34m=\u001b[0m \u001b[0mextract_index\u001b[0m\u001b[0;34m(\u001b[0m\u001b[0marrays\u001b[0m\u001b[0;34m)\u001b[0m\u001b[0;34m\u001b[0m\u001b[0;34m\u001b[0m\u001b[0m\n\u001b[0m\u001b[1;32m   7357\u001b[0m \u001b[0;34m\u001b[0m\u001b[0m\n\u001b[1;32m   7358\u001b[0m     \u001b[0;31m# don't force copy because getting jammed in an ndarray anyway\u001b[0m\u001b[0;34m\u001b[0m\u001b[0;34m\u001b[0m\u001b[0;34m\u001b[0m\u001b[0m\n",
      "\u001b[0;32m~/anaconda3/lib/python3.7/site-packages/pandas/core/frame.py\u001b[0m in \u001b[0;36mextract_index\u001b[0;34m(data)\u001b[0m\n\u001b[1;32m   7400\u001b[0m             \u001b[0mlengths\u001b[0m \u001b[0;34m=\u001b[0m \u001b[0mlist\u001b[0m\u001b[0;34m(\u001b[0m\u001b[0mset\u001b[0m\u001b[0;34m(\u001b[0m\u001b[0mraw_lengths\u001b[0m\u001b[0;34m)\u001b[0m\u001b[0;34m)\u001b[0m\u001b[0;34m\u001b[0m\u001b[0;34m\u001b[0m\u001b[0m\n\u001b[1;32m   7401\u001b[0m             \u001b[0;32mif\u001b[0m \u001b[0mlen\u001b[0m\u001b[0;34m(\u001b[0m\u001b[0mlengths\u001b[0m\u001b[0;34m)\u001b[0m \u001b[0;34m>\u001b[0m \u001b[0;36m1\u001b[0m\u001b[0;34m:\u001b[0m\u001b[0;34m\u001b[0m\u001b[0;34m\u001b[0m\u001b[0m\n\u001b[0;32m-> 7402\u001b[0;31m                 \u001b[0;32mraise\u001b[0m \u001b[0mValueError\u001b[0m\u001b[0;34m(\u001b[0m\u001b[0;34m'arrays must all be same length'\u001b[0m\u001b[0;34m)\u001b[0m\u001b[0;34m\u001b[0m\u001b[0;34m\u001b[0m\u001b[0m\n\u001b[0m\u001b[1;32m   7403\u001b[0m \u001b[0;34m\u001b[0m\u001b[0m\n\u001b[1;32m   7404\u001b[0m             \u001b[0;32mif\u001b[0m \u001b[0mhave_dicts\u001b[0m\u001b[0;34m:\u001b[0m\u001b[0;34m\u001b[0m\u001b[0;34m\u001b[0m\u001b[0m\n",
      "\u001b[0;31mValueError\u001b[0m: arrays must all be same length"
     ]
    }
   ],
   "source": [
    "# Minor wrangling to create dataset with feature names and linear coefficients\n",
    "feature_names = list(num_vars) # Initialize list of feature names with numerical variables\n",
    "onehot_features = tuned_xgb.named_steps['preprocessor'].transformers_[1][1].named_steps['onehot'].get_feature_names()\n",
    "onehot_features = [str(var) for var in onehot_features]\n",
    "\n",
    "for var in onehot_features:\n",
    "    feature_names.append(var)\n",
    "    \n",
    "xgb_importance_df = pd.DataFrame({\"Feature Names\": feature_names,\n",
    "                                     \"XGB Importances\":importances})"
   ]
  },
  {
   "cell_type": "code",
   "execution_count": 172,
   "metadata": {},
   "outputs": [
    {
     "data": {
      "image/png": "[encoded data removed]",
      "text/plain": [
       "<Figure size 432x288 with 1 Axes>"
      ]
     },
     "metadata": {
      "needs_background": "light"
     },
     "output_type": "display_data"
    },
    {
     "data": {
      "text/html": [
       "<div>\n",
       "<style scoped>\n",
       "    .dataframe tbody tr th:only-of-type {\n",
       "        vertical-align: middle;\n",
       "    }\n",
       "\n",
       "    .dataframe tbody tr th {\n",
       "        vertical-align: top;\n",
       "    }\n",
       "\n",
       "    .dataframe thead th {\n",
       "        text-align: right;\n",
       "    }\n",
       "</style>\n",
       "<table border=\"1\" class=\"dataframe\">\n",
       "  <thead>\n",
       "    <tr style=\"text-align: right;\">\n",
       "      <th></th>\n",
       "      <th>Feature Names</th>\n",
       "      <th>XGB Importances</th>\n",
       "    </tr>\n",
       "  </thead>\n",
       "  <tbody>\n",
       "    <tr>\n",
       "      <th>1857</th>\n",
       "      <td>diag_3_648</td>\n",
       "      <td>0.000168</td>\n",
       "    </tr>\n",
       "    <tr>\n",
       "      <th>799</th>\n",
       "      <td>diag_2_154</td>\n",
       "      <td>0.000236</td>\n",
       "    </tr>\n",
       "    <tr>\n",
       "      <th>1823</th>\n",
       "      <td>diag_3_593</td>\n",
       "      <td>0.000269</td>\n",
       "    </tr>\n",
       "    <tr>\n",
       "      <th>553</th>\n",
       "      <td>diag_1_659</td>\n",
       "      <td>0.000280</td>\n",
       "    </tr>\n",
       "    <tr>\n",
       "      <th>530</th>\n",
       "      <td>diag_1_626</td>\n",
       "      <td>0.000293</td>\n",
       "    </tr>\n",
       "    <tr>\n",
       "      <th>294</th>\n",
       "      <td>diag_1_331</td>\n",
       "      <td>0.000310</td>\n",
       "    </tr>\n",
       "    <tr>\n",
       "      <th>2132</th>\n",
       "      <td>diag_3_V10</td>\n",
       "      <td>0.000314</td>\n",
       "    </tr>\n",
       "    <tr>\n",
       "      <th>552</th>\n",
       "      <td>diag_1_658</td>\n",
       "      <td>0.000316</td>\n",
       "    </tr>\n",
       "    <tr>\n",
       "      <th>834</th>\n",
       "      <td>diag_2_218</td>\n",
       "      <td>0.000337</td>\n",
       "    </tr>\n",
       "    <tr>\n",
       "      <th>1870</th>\n",
       "      <td>diag_3_664</td>\n",
       "      <td>0.000342</td>\n",
       "    </tr>\n",
       "    <tr>\n",
       "      <th>610</th>\n",
       "      <td>diag_1_738</td>\n",
       "      <td>0.000347</td>\n",
       "    </tr>\n",
       "    <tr>\n",
       "      <th>550</th>\n",
       "      <td>diag_1_656</td>\n",
       "      <td>0.000354</td>\n",
       "    </tr>\n",
       "    <tr>\n",
       "      <th>1434</th>\n",
       "      <td>diag_2_V43</td>\n",
       "      <td>0.000367</td>\n",
       "    </tr>\n",
       "    <tr>\n",
       "      <th>1809</th>\n",
       "      <td>diag_3_577</td>\n",
       "      <td>0.000381</td>\n",
       "    </tr>\n",
       "    <tr>\n",
       "      <th>1688</th>\n",
       "      <td>diag_3_416</td>\n",
       "      <td>0.000390</td>\n",
       "    </tr>\n",
       "    <tr>\n",
       "      <th>959</th>\n",
       "      <td>diag_2_344</td>\n",
       "      <td>0.000424</td>\n",
       "    </tr>\n",
       "    <tr>\n",
       "      <th>1028</th>\n",
       "      <td>diag_2_434</td>\n",
       "      <td>0.000441</td>\n",
       "    </tr>\n",
       "    <tr>\n",
       "      <th>887</th>\n",
       "      <td>diag_2_260</td>\n",
       "      <td>0.000454</td>\n",
       "    </tr>\n",
       "    <tr>\n",
       "      <th>62</th>\n",
       "      <td>medical_specialty_Gynecology</td>\n",
       "      <td>0.000461</td>\n",
       "    </tr>\n",
       "    <tr>\n",
       "      <th>625</th>\n",
       "      <td>diag_1_785</td>\n",
       "      <td>0.000473</td>\n",
       "    </tr>\n",
       "  </tbody>\n",
       "</table>\n",
       "</div>"
      ],
      "text/plain": [
       "                     Feature Names  XGB Importances\n",
       "1857                    diag_3_648         0.000168\n",
       "799                     diag_2_154         0.000236\n",
       "1823                    diag_3_593         0.000269\n",
       "553                     diag_1_659         0.000280\n",
       "530                     diag_1_626         0.000293\n",
       "294                     diag_1_331         0.000310\n",
       "2132                    diag_3_V10         0.000314\n",
       "552                     diag_1_658         0.000316\n",
       "834                     diag_2_218         0.000337\n",
       "1870                    diag_3_664         0.000342\n",
       "610                     diag_1_738         0.000347\n",
       "550                     diag_1_656         0.000354\n",
       "1434                    diag_2_V43         0.000367\n",
       "1809                    diag_3_577         0.000381\n",
       "1688                    diag_3_416         0.000390\n",
       "959                     diag_2_344         0.000424\n",
       "1028                    diag_2_434         0.000441\n",
       "887                     diag_2_260         0.000454\n",
       "62    medical_specialty_Gynecology         0.000461\n",
       "625                     diag_1_785         0.000473"
      ]
     },
     "execution_count": 172,
     "metadata": {},
     "output_type": "execute_result"
    }
   ],
   "source": [
    "xgb_importance_df = xgb_importance_df[xgb_importance_df['XGB Importances'] > 0]\n",
    "sns.distplot(xgb_importance_df['XGB Importances'])\n",
    "plt.show()\n",
    "\n",
    "xgb_importance_df = xgb_importance_df.sort_values(by='XGB Importances')\n",
    "xgb_importance_df.head(n=20)"
   ]
  },
  {
   "cell_type": "code",
   "execution_count": null,
   "metadata": {},
   "outputs": [],
   "source": [
    "\n",
    "elasticnet_coefs = gm_cv.best_estimator_.named_steps['elasticnet'].coef_\n",
    "elasticnet_df = pd.DataFrame({\"Feature Names\": feature_names, \n",
    "                           \"Coefficients\":elasticnet_coefs}) \n",
    "\n",
    "feature_importance_coef_df = pd.merge(feature_importance_df, elasticnet_df, how='inner', on ='Feature Names')\n",
    "rf_feature_df = feature_importance_coef_df.sort_values(by=\"Random Forest Importances\", ascending=False)\n",
    "print(rf_feature_df[['Feature Names', 'Random Forest Importances', 'Coefficients']].head(n=10)) # Top 10 features of "
   ]
  }
 ],
 "metadata": {
  "kernelspec": {
   "display_name": "Python 3",
   "language": "python",
   "name": "python3"
  },
  "language_info": {
   "codemirror_mode": {
    "name": "ipython",
    "version": 3
   },
   "file_extension": ".py",
   "mimetype": "text/x-python",
   "name": "python",
   "nbconvert_exporter": "python",
   "pygments_lexer": "ipython3",
   "version": "3.7.1"
  }
 },
 "nbformat": 4,
 "nbformat_minor": 2
}

{
 "cells": [
  {
   "cell_type": "markdown",
   "metadata": {},
   "source": [
    "# Table of Contents\n",
    "- [Introduction](#Introduction)\n",
    "    - [Imports](#Imports)\n",
    "- [Approach #1 - Binary Classification](#Approach-#1---Binary-Classification)\n",
    "    - [Preprocessing](#Preprocessing-binary-data)\n",
    "    - [Evaluating and comparing binary models](#Evaluating-and-comparing-binary-models)\n",
    "- [Approach #2 - Multiclass Classification](#Approach-#2---Multiclass-Classification)\n",
    "    - [Preprocessing](#Preprocessing-multiclass-data)\n",
    "    - [Evaluating and comparing multiclass models](#Evaluating-and-comparing-multiclass-models)\n",
    "- [Model Selection from Binary and Multiclass Models](#Model-Selection-from-Binary-and-Multiclass-Models)\n",
    "- [Insights from the Binary Approach](#Insights-from-the-Binary-Approach)\n",
    "    - [Visualizing feature importances and directionality](#Visualizing-feature-importances-and-directionality)\n",
    "- [Take Home Messages](#Take-Home-Messages)\n",
    "- [Future Work](#Future-Work)"
   ]
  },
  {
   "cell_type": "markdown",
   "metadata": {},
   "source": [
    "# Introduction"
   ]
  },
  {
   "cell_type": "markdown",
   "metadata": {},
   "source": [
    "The purpose of this project is to be able to analyze the risk of a patient being readmitted, once they have been in \n",
    "the hospital. Other notebooks in the repository have visualized some aspects of the dataset we are working with, as \n",
    "well as quantified some differences between patients who are readmitted, and those who are not.  \n",
    "\n",
    "However, pairwise group comparisons are unable to capture the complexity inherent in a multi-dimensional dataset. \n",
    "As such, in this notebook I will run various predictive models to determine which performs best, and then from those\n",
    "models, extract information such as feature importances and coefficients to understand the relationship of each of \n",
    "these variables to the risk of readmission.\n",
    "\n",
    "The end result of this project is to be able to go to hospital administrators, and make recommendations about key\n",
    "areas to focus on during patient care, in order to make reduce the likelihood of readmissions, which is both costly\n",
    "for the hospital and detrimental to patient wellbeing."
   ]
  },
  {
   "cell_type": "markdown",
   "metadata": {},
   "source": [
    "## Imports"
   ]
  },
  {
   "cell_type": "code",
   "execution_count": 864,
   "metadata": {},
   "outputs": [],
   "source": [
    "import pandas as pd\n",
    "import numpy as np\n",
    "import matplotlib.pyplot as plt\n",
    "import seaborn as sns\n",
    "\n",
    "from sklearn.neighbors import KNeighborsClassifier\n",
    "from sklearn.model_selection import train_test_split, GridSearchCV, RandomizedSearchCV\n",
    "from sklearn.linear_model import LogisticRegression\n",
    "from sklearn.preprocessing import StandardScaler, OneHotEncoder\n",
    "from sklearn.compose import ColumnTransformer\n",
    "from sklearn.pipeline import Pipeline\n",
    "from sklearn.metrics import accuracy_score, confusion_matrix, roc_auc_score, classification_report\n",
    "from sklearn.ensemble import RandomForestClassifier\n",
    "from sklearn import svm, tree\n",
    "from xgboost import XGBClassifier\n"
   ]
  },
  {
   "cell_type": "code",
   "execution_count": 865,
   "metadata": {},
   "outputs": [],
   "source": [
    "def classification_model_fit(model, parameter_grid):\n",
    "    \"\"\"Function to simplify the model fitting process\n",
    "    model: classification model of choice\n",
    "    parameter_grid: grid of parameter values to pass to the pipeline\n",
    "    \"\"\"\n",
    "    clf_pipeline = Pipeline(steps=[('preprocessor', preprocessor), ('clf', model)])\n",
    "    clf_cv = GridSearchCV(clf_pipeline, parameter_grid, cv=3)\n",
    "    fitted_model = clf_cv.fit(X_train, y_train)\n",
    "    return(fitted_model)"
   ]
  },
  {
   "cell_type": "markdown",
   "metadata": {},
   "source": [
    "# Approach #1 - Binary Classification"
   ]
  },
  {
   "cell_type": "markdown",
   "metadata": {},
   "source": [
    "## Preprocessing binary data"
   ]
  },
  {
   "cell_type": "code",
   "execution_count": 868,
   "metadata": {},
   "outputs": [],
   "source": [
    "binary_df = pd.read_csv('binary_diabetes.csv')"
   ]
  },
  {
   "cell_type": "code",
   "execution_count": 869,
   "metadata": {},
   "outputs": [],
   "source": [
    "binary_df['discharge_disposition_id'] = binary_df['discharge_disposition_id'].astype('str')\n",
    "binary_df['admission_source_id'] = binary_df['admission_source_id'].astype('str')\n",
    "_ = binary_df.select_dtypes(include=['int64']).columns\n",
    "for col in _:\n",
    "    binary_df[col] = binary_df[col].astype(float) #Convert int to float to reduce warning outputs"
   ]
  },
  {
   "cell_type": "code",
   "execution_count": 870,
   "metadata": {},
   "outputs": [],
   "source": [
    "y = binary_df['readmitted'] \n",
    "X = binary_df.drop('readmitted', axis=1)\n",
    "X_train, X_test, y_train, y_test = train_test_split(X, y, test_size=0.3, random_state=42, stratify=y)\n",
    "\n",
    "numeric_transformer = Pipeline(steps=[('scaler', StandardScaler())])\n",
    "categorical_transformer = Pipeline(steps=[('onehot', OneHotEncoder(handle_unknown='ignore'))])\n",
    "\n",
    "numeric_features = binary_df.select_dtypes(include=['int64', 'float64']).columns\n",
    "categorical_features = binary_df.select_dtypes(include=['object']).drop(['readmitted'], axis=1).columns\n",
    "\n",
    "preprocessor = ColumnTransformer(transformers=[('num', numeric_transformer, numeric_features),\n",
    "                                              ('cat', categorical_transformer, categorical_features)])"
   ]
  },
  {
   "cell_type": "markdown",
   "metadata": {},
   "source": [
    "## Model 1 - Logistic Regression"
   ]
  },
  {
   "cell_type": "code",
   "execution_count": 871,
   "metadata": {},
   "outputs": [],
   "source": [
    "# Fitting the model\n",
    "simple_logreg_params = {'clf__penalty':['l1','l2'], 'clf__C':np.linspace(0.5,1.5,5), 'clf__solver':['liblinear']}\n",
    "simple_logreg = classification_model_fit(LogisticRegression(), simple_logreg_params)"
   ]
  },
  {
   "cell_type": "code",
   "execution_count": 872,
   "metadata": {},
   "outputs": [],
   "source": [
    "#Extracting coefficients\n",
    "simple_logreg_coef = simple_logreg.best_estimator_.named_steps['clf'].coef_\n",
    "simple_logreg_coef = [i for i in simple_logreg_coef[0]]"
   ]
  },
  {
   "cell_type": "markdown",
   "metadata": {},
   "source": [
    "## Model 2 - XGBClassifier"
   ]
  },
  {
   "cell_type": "code",
   "execution_count": 873,
   "metadata": {},
   "outputs": [],
   "source": [
    "simple_xgb_params = {'clf__max_depth':[10, 20, 30, 40, 50], 'clf__objective':['binary:logistic']}\n",
    "simple_xgb = classification_model_fit(XGBClassifier(), simple_xgb_params)"
   ]
  },
  {
   "cell_type": "code",
   "execution_count": 874,
   "metadata": {},
   "outputs": [],
   "source": [
    "#Extracting feature importances\n",
    "simple_xgb_importances = simple_xgb.best_estimator_.named_steps['clf'].feature_importances_"
   ]
  },
  {
   "cell_type": "markdown",
   "metadata": {},
   "source": [
    "## Model 3 - Random Forest"
   ]
  },
  {
   "cell_type": "code",
   "execution_count": 855,
   "metadata": {},
   "outputs": [],
   "source": [
    "simple_rf_params = {'clf__n_estimators': [200, 300, 400], 'clf__max_depth': [10, 20, 30, 40, 50], \n",
    "             'clf__max_features': ['auto', 'sqrt'], 'clf__class_weight':['balanced']}\n",
    "simple_rf = classification_model_fit(RandomForestClassifier(), simple_rf_params)"
   ]
  },
  {
   "cell_type": "code",
   "execution_count": 856,
   "metadata": {},
   "outputs": [],
   "source": [
    "#Extracting feature importances\n",
    "simple_rf_importances = simple_rf.best_estimator_.named_steps['clf'].feature_importances_"
   ]
  },
  {
   "cell_type": "markdown",
   "metadata": {},
   "source": [
    "## Evaluating and comparing binary models"
   ]
  },
  {
   "cell_type": "code",
   "execution_count": 875,
   "metadata": {},
   "outputs": [],
   "source": [
    "def evaluate_classification_model(model):\n",
    "    model_predictions = model.predict(X_test)\n",
    "    model_accuracy = accuracy_score(model_predictions, y_test)\n",
    "    \n",
    "    model_report = classification_report(model_predictions, y_test)\n",
    "    \n",
    "    model_roc_score = roc_auc_score(y_test, model.predict_proba(X_test)[:, 1])\n",
    "    return model_accuracy, model_report, model_roc_score"
   ]
  },
  {
   "cell_type": "markdown",
   "metadata": {},
   "source": [
    "As a reminder, in the context of this project, we are interested in being able to predict and identify members of a \n",
    "minority class (patients who get readmitted), and that the identification of this minority class is particularly \n",
    "important.\n",
    "\n",
    "This matters because it affects the metric that we choose to look at most closely. For this project, **recall** is a much\n",
    "better metric than precision or accuracy, as it specifically emphasizes the ability of a model to identify rare \n",
    "instances which are also vitally important. As such, it will be the primary metric that I use to compare the following\n",
    "three models."
   ]
  },
  {
   "cell_type": "code",
   "execution_count": 876,
   "metadata": {},
   "outputs": [
    {
     "name": "stdout",
     "output_type": "stream",
     "text": [
      "The accuracy of the logistic regression classifier is 0.6391482469512195\n",
      "The classification report of the logistic regression classifier is\n",
      "               precision    recall  f1-score   support\n",
      "\n",
      "          NO       0.84      0.65      0.73     16019\n",
      "         YES       0.35      0.60      0.44      4973\n",
      "\n",
      "   micro avg       0.64      0.64      0.64     20992\n",
      "   macro avg       0.59      0.62      0.59     20992\n",
      "weighted avg       0.72      0.64      0.66     20992\n",
      "\n",
      "The ROC-AUC score of the logistic regression classifier is 0.6677016632026403\n",
      "The accuracy of the XGBoost classifier is 0.6539157774390244\n",
      "The classification report of the XGBoost classifier is\n",
      "               precision    recall  f1-score   support\n",
      "\n",
      "          NO       0.80      0.67      0.73     14823\n",
      "         YES       0.44      0.60      0.51      6169\n",
      "\n",
      "   micro avg       0.65      0.65      0.65     20992\n",
      "   macro avg       0.62      0.64      0.62     20992\n",
      "weighted avg       0.70      0.65      0.67     20992\n",
      "\n",
      "The ROC-AUC score of the XGBoost classifier is 0.6898923801761813\n",
      "The accuracy of the Random Forest classifier is 0.891625381097561\n",
      "The classification report of the Random Forest classifier is\n",
      "               precision    recall  f1-score   support\n",
      "\n",
      "          NO       0.94      0.89      0.91     13129\n",
      "         YES       0.83      0.90      0.86      7863\n",
      "\n",
      "   micro avg       0.89      0.89      0.89     20992\n",
      "   macro avg       0.88      0.89      0.89     20992\n",
      "weighted avg       0.90      0.89      0.89     20992\n",
      "\n",
      "The ROC-AUC score of the Random Forest classifier is 0.9596788842921213\n"
     ]
    }
   ],
   "source": [
    "logreg_acc, logreg_classification, logreg_roc = evaluate_classification_model(simple_logreg)\n",
    "print(\"The accuracy of the logistic regression classifier is {}\".format(logreg_acc))\n",
    "print(\"The classification report of the logistic regression classifier is\\n {}\".format(logreg_classification))\n",
    "print(\"The ROC-AUC score of the logistic regression classifier is {}\".format(logreg_roc))\n",
    "\n",
    "simple_xgb_acc, simple_xgb_classification, simple_xgb_roc = evaluate_classification_model(simple_xgb)\n",
    "print(\"The accuracy of the XGBoost classifier is {}\".format(simple_xgb_acc))\n",
    "print(\"The classification report of the XGBoost classifier is\\n {}\".format(simple_xgb_classification))\n",
    "print(\"The ROC-AUC score of the XGBoost classifier is {}\".format(simple_xgb_roc))\n",
    "\n",
    "simple_rf_acc, simple_rf_classification, simple_rf_roc = evaluate_classification_model(simple_rf)\n",
    "print(\"The accuracy of the Random Forest classifier is {}\".format(simple_rf_acc))\n",
    "print(\"The classification report of the Random Forest classifier is\\n {}\".format(simple_rf_classification))\n",
    "print(\"The ROC-AUC score of the Random Forest classifier is {}\".format(simple_rf_roc))"
   ]
  },
  {
   "cell_type": "markdown",
   "metadata": {},
   "source": [
    "## Model Selection"
   ]
  },
  {
   "cell_type": "markdown",
   "metadata": {},
   "source": [
    "In this case, I will go with XGBoost as the model of choice, as it has the best recall score for the positive class i.e. readmitted patients, as well as having the highest ROC. Logistic Regression has a similar recall score, but ultimately XGBoost has a better ROC-AUC score and accuracy, so it outperforms Logistic Regression on all counts."
   ]
  },
  {
   "cell_type": "markdown",
   "metadata": {},
   "source": [
    "# Approach #2 - Multiclass Classification"
   ]
  },
  {
   "cell_type": "markdown",
   "metadata": {},
   "source": [
    "## Preprocessing multiclass data"
   ]
  },
  {
   "cell_type": "code",
   "execution_count": 772,
   "metadata": {},
   "outputs": [],
   "source": [
    "multiclass_df = pd.read_csv('cleaned_diabetes.csv')"
   ]
  },
  {
   "cell_type": "code",
   "execution_count": 782,
   "metadata": {},
   "outputs": [],
   "source": [
    "multiclass_df['discharge_disposition_id'] = multiclass_df['discharge_disposition_id'].astype('str')\n",
    "multiclass_df['admission_source_id'] = multiclass_df['admission_source_id'].astype('str')\n",
    "_ = multiclass_df.select_dtypes(include=['int64']).columns\n",
    "for col in _:\n",
    "    multiclass_df[col] = multiclass_df[col].astype(float) #Convert int to float to reduce warning outputs"
   ]
  },
  {
   "cell_type": "code",
   "execution_count": 826,
   "metadata": {},
   "outputs": [],
   "source": [
    "y = multiclass_df['readmitted'] \n",
    "X = multiclass_df.drop('readmitted', axis=1)\n",
    "X_train, X_test, y_train, y_test = train_test_split(X, y, test_size=0.3, random_state=42, stratify=y)\n",
    "\n",
    "numeric_transformer = Pipeline(steps=[('scaler', StandardScaler())])\n",
    "categorical_transformer = Pipeline(steps=[('onehot', OneHotEncoder(handle_unknown='ignore'))])\n",
    "\n",
    "numeric_features = multiclass_df.select_dtypes(include=['int64', 'float64']).columns\n",
    "categorical_features = multiclass_df.select_dtypes(include=['object']).drop(['readmitted'], axis=1).columns\n",
    "\n",
    "preprocessor = ColumnTransformer(transformers=[('num', numeric_transformer, numeric_features),\n",
    "                                              ('cat', categorical_transformer, categorical_features)])"
   ]
  },
  {
   "cell_type": "markdown",
   "metadata": {},
   "source": [
    "## Model #1 - Logistic Regression"
   ]
  },
  {
   "cell_type": "code",
   "execution_count": 798,
   "metadata": {},
   "outputs": [],
   "source": [
    "# Fitting the model\n",
    "multi_logreg_params = {'clf__penalty':['l2'], 'clf__C':np.linspace(0.5,1.5,5), \n",
    "                       'clf__solver':['lbfgs'], 'clf__multi_class':['ovr'], 'clf__max_iter':[1000]}\n",
    "multi_logreg = classification_model_fit(LogisticRegression(), multi_logreg_params)"
   ]
  },
  {
   "cell_type": "code",
   "execution_count": 799,
   "metadata": {},
   "outputs": [],
   "source": [
    "#Extracting coefficients\n",
    "multi_logreg_coef = multi_logreg.best_estimator_.named_steps['clf'].coef_\n",
    "multi_logreg_coef = [i for i in multi_logreg_coef[0]]"
   ]
  },
  {
   "cell_type": "markdown",
   "metadata": {},
   "source": [
    "## Model #2 - XGBoost Classifier"
   ]
  },
  {
   "cell_type": "code",
   "execution_count": 814,
   "metadata": {},
   "outputs": [],
   "source": [
    "multi_xgb_params = {'clf__max_depth':[10, 20, 30, 40, 50], 'clf__objective':['multi:softprob']}\n",
    "multi_xgb = classification_model_fit(XGBClassifier(), multi_xgb_params)"
   ]
  },
  {
   "cell_type": "code",
   "execution_count": 815,
   "metadata": {},
   "outputs": [],
   "source": [
    "#Extracting feature importances\n",
    "multi_xgb_importances = multi_xgb.best_estimator_.named_steps['clf'].feature_importances_"
   ]
  },
  {
   "cell_type": "markdown",
   "metadata": {},
   "source": [
    "## Model #3 - Random Forest Classifier"
   ]
  },
  {
   "cell_type": "code",
   "execution_count": 818,
   "metadata": {},
   "outputs": [],
   "source": [
    "multi_rf_params = {'clf__n_estimators': [200, 300, 400], 'clf__max_depth': [10, 20, 30, 40, 50], \n",
    "             'clf__max_features': ['auto', 'sqrt'], 'clf__class_weight':['balanced']}\n",
    "multi_rf = classification_model_fit(RandomForestClassifier(), simple_rf_params)"
   ]
  },
  {
   "cell_type": "code",
   "execution_count": 819,
   "metadata": {},
   "outputs": [],
   "source": [
    "#Extracting feature importances\n",
    "multi_rf_importances = multi_rf.best_estimator_.named_steps['clf'].feature_importances_"
   ]
  },
  {
   "cell_type": "markdown",
   "metadata": {},
   "source": [
    "## Evaluating and comparing multiclass models"
   ]
  },
  {
   "cell_type": "code",
   "execution_count": 830,
   "metadata": {},
   "outputs": [],
   "source": [
    "def evaluate_multiclass_model(model):\n",
    "    model_predictions = model.predict(X_test)\n",
    "    model_accuracy = accuracy_score(model_predictions, y_test)\n",
    "    \n",
    "    model_report = classification_report(model_predictions, y_test)\n",
    "    return model_accuracy, model_report"
   ]
  },
  {
   "cell_type": "code",
   "execution_count": 832,
   "metadata": {},
   "outputs": [
    {
     "name": "stdout",
     "output_type": "stream",
     "text": [
      "The accuracy of the logistic regression classifier is 0.6152591349739001\n",
      "The classification report of the logistic regression classifier is\n",
      "               precision    recall  f1-score   support\n",
      "\n",
      "         <30       0.00      0.35      0.01        26\n",
      "         >30       0.15      0.50      0.23      2027\n",
      "          NO       0.94      0.63      0.75     19403\n",
      "\n",
      "   micro avg       0.62      0.62      0.62     21456\n",
      "   macro avg       0.37      0.49      0.33     21456\n",
      "weighted avg       0.87      0.62      0.70     21456\n",
      "\n",
      "The accuracy of the XGBoost classifier is 0.62248322147651\n",
      "The classification report of the XGBoost classifier is\n",
      "               precision    recall  f1-score   support\n",
      "\n",
      "         <30       0.03      0.44      0.06       132\n",
      "         >30       0.25      0.51      0.33      3276\n",
      "          NO       0.90      0.65      0.75     18048\n",
      "\n",
      "   micro avg       0.62      0.62      0.62     21456\n",
      "   macro avg       0.39      0.53      0.38     21456\n",
      "weighted avg       0.80      0.62      0.68     21456\n",
      "\n",
      "The accuracy of the Random Forest classifier is 0.6171700223713646\n",
      "The classification report of the Random Forest classifier is\n",
      "               precision    recall  f1-score   support\n",
      "\n",
      "         <30       0.01      0.48      0.02        44\n",
      "         >30       0.21      0.50      0.30      2827\n",
      "          NO       0.92      0.64      0.75     18585\n",
      "\n",
      "   micro avg       0.62      0.62      0.62     21456\n",
      "   macro avg       0.38      0.54      0.36     21456\n",
      "weighted avg       0.82      0.62      0.69     21456\n",
      "\n"
     ]
    }
   ],
   "source": [
    "multi_logreg_acc, multi_logreg_classification = evaluate_multiclass_model(multi_logreg)\n",
    "print(\"The accuracy of the logistic regression classifier is {}\".format(multi_logreg_acc))\n",
    "print(\"The classification report of the logistic regression classifier is\\n {}\".format(multi_logreg_classification))\n",
    "\n",
    "multi_xgb_acc, multi_xgb_classification = evaluate_multiclass_model(multi_xgb)\n",
    "print(\"The accuracy of the XGBoost classifier is {}\".format(multi_xgb_acc))\n",
    "print(\"The classification report of the XGBoost classifier is\\n {}\".format(multi_xgb_classification))\n",
    "\n",
    "multi_rf_acc, multi_rf_classification = evaluate_multiclass_model(multi_rf)\n",
    "print(\"The accuracy of the Random Forest classifier is {}\".format(multi_rf_acc))\n",
    "print(\"The classification report of the Random Forest classifier is\\n {}\".format(multi_rf_classification))"
   ]
  },
  {
   "cell_type": "markdown",
   "metadata": {},
   "source": [
    "# Model Selection from Binary and Multiclass Models"
   ]
  },
  {
   "cell_type": "markdown",
   "metadata": {},
   "source": [
    "Compared to the binary models, the multiclass models definitely take a hit in performance; the recall scores are \n",
    "notably low across the board, possibly due to the minority classes being even smaller in size than the binary model. \n",
    "\n",
    "Although I could still compare the models on the basis of their recall score, it seems relatively pointless. \n",
    "After all, the goal of the model is to be as useful as possible in predicting patients with risk of readmission;\n",
    "with recall scores at 0.5 or lower, these multiclass models are essentially missing most of the cases that we are \n",
    "interested in. \n",
    "\n",
    "Binary models seem more appropriate for applicability, and so we should be drawing most of our insights\n",
    "about variables from the binary approach. As the XGBoost model performed best (based on recall) from the set of \n",
    "binary models, that is the one I will be using to gain insights into feature importances, aided by the coefficients\n",
    "from the binary logistic regression model."
   ]
  },
  {
   "cell_type": "markdown",
   "metadata": {},
   "source": [
    "# Insights from the Binary Approach"
   ]
  },
  {
   "cell_type": "markdown",
   "metadata": {},
   "source": [
    "## Visualizing feature importances and directionality"
   ]
  },
  {
   "cell_type": "code",
   "execution_count": 879,
   "metadata": {},
   "outputs": [],
   "source": [
    "# Creating a dataset of feature importances and coefficients\n",
    "onehotfeatures = simple_logreg.best_estimator_.named_steps['preprocessor'].transformers_[1][1].named_steps['onehot'].get_feature_names(categorical_features)\n",
    "feature_list = list(numeric_features.copy())\n",
    "\n",
    "onehot_features = [str(i) for i in onehotfeatures]\n",
    "for i in onehot_features:\n",
    "    feature_list.append(i)"
   ]
  },
  {
   "cell_type": "code",
   "execution_count": 880,
   "metadata": {},
   "outputs": [
    {
     "name": "stdout",
     "output_type": "stream",
     "text": [
      "                                        Feature Name  Coefficients  \\\n",
      "0                                   number_inpatient      0.278875   \n",
      "1                              admission_source_id_4     -0.262808   \n",
      "2          medical_specialty_ObstetricsandGynecology     -0.653527   \n",
      "3                              admission_source_id_2     -0.239022   \n",
      "4                                 max_glu_serum_None      0.000000   \n",
      "5                                   number_diagnoses      0.204049   \n",
      "6                                   number_emergency      0.140792   \n",
      "7                         glyburide-metformin_Steady      0.162646   \n",
      "8                                 nateglinide_Steady      0.067499   \n",
      "9  medical_specialty_Surgery-Cardiovascular/Thoracic     -0.757315   \n",
      "\n",
      "   Importances  \n",
      "0     0.041540  \n",
      "1     0.015853  \n",
      "2     0.012322  \n",
      "3     0.011678  \n",
      "4     0.011229  \n",
      "5     0.010916  \n",
      "6     0.010242  \n",
      "7     0.009756  \n",
      "8     0.009630  \n",
      "9     0.009616  \n"
     ]
    }
   ],
   "source": [
    "importances_df = pd.DataFrame({'Feature Name':feature_list, 'Coefficients':simple_logreg_coef, \n",
    "                               'Importances':simple_xgb_importances})\n",
    "\n",
    "importances_df = importances_df.sort_values(by='Importances', ascending=False).reset_index(drop=True)\n",
    "print(importances_df.head(10))"
   ]
  },
  {
   "cell_type": "code",
   "execution_count": 881,
   "metadata": {},
   "outputs": [
    {
     "data": {
      "image/png": "[encoded data removed]",
      "text/plain": [
       "<Figure size 576x432 with 1 Axes>"
      ]
     },
     "metadata": {
      "needs_background": "light"
     },
     "output_type": "display_data"
    },
    {
     "data": {
      "image/png": "[encoded data removed]",
      "text/plain": [
       "<Figure size 576x432 with 1 Axes>"
      ]
     },
     "metadata": {
      "needs_background": "light"
     },
     "output_type": "display_data"
    }
   ],
   "source": [
    "top_20_features = importances_df.head(20)\n",
    "\n",
    "plt.figure(figsize=(8, 6))\n",
    "sns.barplot(data=top_20_features, x='Feature Name', y='Importances')\n",
    "plt.xticks(rotation=90)\n",
    "plt.title(\"XGBoost Feature Importances\", size=20)\n",
    "plt.savefig('XGBoost Feature Importances.png', bbox_inches='tight')\n",
    "plt.show()\n",
    "\n",
    "plt.figure(figsize=(8, 6))\n",
    "sns.barplot(data=top_20_features, x='Feature Name', y='Coefficients')\n",
    "plt.xticks(rotation=90)\n",
    "plt.title(\"Feature Coefficients from Logistic Regression\", size=20)\n",
    "plt.savefig('Feature Coefficients from Logistic Regression.png', bbox_inches='tight')\n",
    "plt.show()"
   ]
  },
  {
   "cell_type": "markdown",
   "metadata": {},
   "source": [
    "# Take Home Messages"
   ]
  },
  {
   "cell_type": "markdown",
   "metadata": {},
   "source": [
    "**The most important feature, and what it means**:\n",
    "- What we can see from the best model is that there is one extremely important feature that predicts increased probability of readmission: the number of inpatient visits the patient has had in the past year. The positive coefficient also suggets that this variable is positively related to the risk of readmission i.e. the more inpatient visits, the greater the risk.\n",
    "\n",
    "**Other important features**\n",
    "- Other patient variables to keep track of are the number of emergency visits a patient had in the preceding year; the higher the number, the greater the risk of readmission. Patients with more diagnoses are also more likely to be readmitted.\n",
    "\n",
    "- Patients with kidney issues (i.e. associated with the Nephrology department are also more likely to be readmitted, as are patients on glyburide-metform and nateglinide, both of which are antidiabetic medications. These two variables might be related: one of the consequences of diabetes is nephropathy, after all, so this signal we are getting from the model makes sense. Caveat: a primary diagnosis of diabetes is actually negatively associated with readmission risk, so this might be more complicated than simply assuming all diabetic patients are likely to be readmitted.\n",
    "\n",
    "- There are two admission and discharge disposition variables that positively predict readmissions: \n",
    "    - Emergency/trauma patients appear to be more likely to be readmitted (see: IDs_mapping.csv in the repo)\n",
    "    - Patients discharged to rehab units appear more likely to be readmitted (see: IDs_mapping.csv)\n",
    "\n",
    "**Recommendations for hospital administration**\n",
    "- If not already in place, I would suggest that a questionnaire be immediately administered to patients upon admission, where the number of emergency visits and inpatient visits in the past year can be recorded.\n",
    "- As the patient progresses through the length of their stay, their patient profile can be updated with the relevant information e.g. the number of diagnoses they receive during their treatment, and the readmission risk correspondingly updated. \n",
    "- Reconsider discharging patients to rehab units, until a study can be conducted to understand why this appears to positively predict readmissions."
   ]
  },
  {
   "cell_type": "markdown",
   "metadata": {},
   "source": [
    "# Future Work"
   ]
  },
  {
   "cell_type": "markdown",
   "metadata": {},
   "source": [
    "**Improving multiclass risk classification**\n",
    "- It may be of interest to the hospital to quantify the risk of short-term readmissions versus long-term readmissions, as short-term readmissions i.e. <30 days, may signal the need for better treatment during a patient's stay. Currently, the models do not do a good job of predicting short-term readmissions, and I will need to adopt a different approach to improve their performance. \n",
    "- One possible approach could be SMOTE, where I oversample the minority class (here, patients readmitted in less than 30 days), which allows for them to be better represented in the dataset. \n",
    "\n",
    "Thank you for reading through this notebook, I hope it has been informative and helpful."
   ]
  },
  {
   "cell_type": "code",
   "execution_count": null,
   "metadata": {},
   "outputs": [],
   "source": []
  }
 ],
 "metadata": {
  "kernelspec": {
   "display_name": "Python 3",
   "language": "python",
   "name": "python3"
  },
  "language_info": {
   "codemirror_mode": {
    "name": "ipython",
    "version": 3
   },
   "file_extension": ".py",
   "mimetype": "text/x-python",
   "name": "python",
   "nbconvert_exporter": "python",
   "pygments_lexer": "ipython3",
   "version": "3.7.1"
  }
 },
 "nbformat": 4,
 "nbformat_minor": 2
}

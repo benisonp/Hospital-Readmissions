{
 "cells": [
  {
   "cell_type": "markdown",
   "metadata": {},
   "source": [
    "# Inferential Statistics"
   ]
  },
  {
   "cell_type": "markdown",
   "metadata": {},
   "source": [
    "In this notebook, I will perform some quick statistical tests, based on observations made in the data exploration \n",
    "portion of this project."
   ]
  },
  {
   "cell_type": "code",
   "execution_count": 1,
   "metadata": {},
   "outputs": [],
   "source": [
    "import pandas as pd\n",
    "import numpy as np\n",
    "import matplotlib.pyplot as plt\n",
    "import seaborn as sns\n",
    "import scipy.stats as stats\n",
    "import random\n",
    "\n",
    "from scipy.stats import shapiro\n",
    "from scipy.stats import normaltest\n",
    "from scipy.stats import pearsonr\n",
    "from statsmodels.stats.weightstats import ztest\n",
    "from statsmodels.graphics.gofplots import qqplot"
   ]
  },
  {
   "cell_type": "code",
   "execution_count": 2,
   "metadata": {},
   "outputs": [],
   "source": [
    "df = pd.read_csv('binary_diabetes.csv')"
   ]
  },
  {
   "cell_type": "markdown",
   "metadata": {},
   "source": [
    "## Creating the numerical dataset"
   ]
  },
  {
   "cell_type": "code",
   "execution_count": 19,
   "metadata": {},
   "outputs": [],
   "source": [
    "num_df = df[['time_in_hospital', 'num_lab_procedures', 'num_procedures', 'num_medications', 'number_outpatient',\n",
    "                 'number_emergency', 'number_inpatient', 'number_diagnoses', 'readmitted']]"
   ]
  },
  {
   "cell_type": "markdown",
   "metadata": {},
   "source": [
    "## Bootstrapping function to compare the means of readmitted vs non-readmitted patients, for a given metric"
   ]
  },
  {
   "cell_type": "code",
   "execution_count": 75,
   "metadata": {},
   "outputs": [],
   "source": [
    "def bootstrap_mean_diff(metric_list):\n",
    "    \"\"\"\n",
    "    metric: A list of metrics of interest\n",
    "    \"\"\"\n",
    "    bootstrap_df = pd.DataFrame(index=metric_list, columns=['Observed difference', 'Permuted pval'])\n",
    "    \n",
    "    for metric in metric_list:\n",
    "        readmitted = num_df.loc[num_df.readmitted=='YES', metric] - np.mean(num_df.loc[num_df.readmitted=='YES', metric]) #Shifting mean\n",
    "        not_readmitted = num_df.loc[num_df.readmitted=='NO', metric] - np.mean(num_df.loc[num_df.readmitted=='NO', metric]) #Shifting mean\n",
    "\n",
    "        differences_replicates = np.empty(10000) # Initializing empty list for the 10000 entries\n",
    "        for i in range(10000):\n",
    "            bootstrap_readmitted = np.random.choice(readmitted, size=len(readmitted)) # Bootstrap replicate for the first group\n",
    "            bootstrap_not_readmitted = np.random.choice(not_readmitted, size=len(not_readmitted)) # 2nd group bootstrap replicate\n",
    "            bootstrap_mean_readmitted = np.mean(bootstrap_readmitted)\n",
    "            bootstrap_mean_not_readmitted = np.mean(bootstrap_not_readmitted)\n",
    "            differences_replicates[i] = bootstrap_mean_readmitted - bootstrap_mean_not_readmitted # Store the difference in means \n",
    "\n",
    "        obs_difference = np.mean(num_df.loc[num_df.readmitted=='YES', metric]) - np.mean(num_df.loc[num_df.readmitted=='NO', metric])\n",
    "        pval = sum(differences_replicates >= np.absolute(obs_difference))/10000\n",
    "        \n",
    "        bootstrap_df.loc[metric, 'Observed difference'] = obs_difference\n",
    "        bootstrap_df.loc[metric, 'Permuted pval'] = pval\n",
    "\n",
    "        \n",
    "    return(bootstrap_df)"
   ]
  },
  {
   "cell_type": "code",
   "execution_count": 78,
   "metadata": {},
   "outputs": [],
   "source": [
    "metric_list = ['time_in_hospital', 'num_lab_procedures', 'num_procedures', 'num_medications', 'number_outpatient',\n",
    "                 'number_emergency', 'number_inpatient', 'number_diagnoses']"
   ]
  },
  {
   "cell_type": "markdown",
   "metadata": {},
   "source": [
    "## Final results"
   ]
  },
  {
   "cell_type": "code",
   "execution_count": 80,
   "metadata": {},
   "outputs": [
    {
     "data": {
      "text/html": [
       "<div>\n",
       "<style scoped>\n",
       "    .dataframe tbody tr th:only-of-type {\n",
       "        vertical-align: middle;\n",
       "    }\n",
       "\n",
       "    .dataframe tbody tr th {\n",
       "        vertical-align: top;\n",
       "    }\n",
       "\n",
       "    .dataframe thead th {\n",
       "        text-align: right;\n",
       "    }\n",
       "</style>\n",
       "<table border=\"1\" class=\"dataframe\">\n",
       "  <thead>\n",
       "    <tr style=\"text-align: right;\">\n",
       "      <th></th>\n",
       "      <th>Observed difference</th>\n",
       "      <th>Permuted pval</th>\n",
       "    </tr>\n",
       "  </thead>\n",
       "  <tbody>\n",
       "    <tr>\n",
       "      <th>time_in_hospital</th>\n",
       "      <td>0.355712</td>\n",
       "      <td>0</td>\n",
       "    </tr>\n",
       "    <tr>\n",
       "      <th>num_lab_procedures</th>\n",
       "      <td>1.87047</td>\n",
       "      <td>0</td>\n",
       "    </tr>\n",
       "    <tr>\n",
       "      <th>num_procedures</th>\n",
       "      <td>-0.100741</td>\n",
       "      <td>0</td>\n",
       "    </tr>\n",
       "    <tr>\n",
       "      <th>num_medications</th>\n",
       "      <td>0.579525</td>\n",
       "      <td>0</td>\n",
       "    </tr>\n",
       "    <tr>\n",
       "      <th>number_outpatient</th>\n",
       "      <td>0.139759</td>\n",
       "      <td>0</td>\n",
       "    </tr>\n",
       "    <tr>\n",
       "      <th>number_emergency</th>\n",
       "      <td>0.0795761</td>\n",
       "      <td>0</td>\n",
       "    </tr>\n",
       "    <tr>\n",
       "      <th>number_inpatient</th>\n",
       "      <td>0.174408</td>\n",
       "      <td>0</td>\n",
       "    </tr>\n",
       "    <tr>\n",
       "      <th>number_diagnoses</th>\n",
       "      <td>0.409719</td>\n",
       "      <td>0</td>\n",
       "    </tr>\n",
       "  </tbody>\n",
       "</table>\n",
       "</div>"
      ],
      "text/plain": [
       "                   Observed difference Permuted pval\n",
       "time_in_hospital              0.355712             0\n",
       "num_lab_procedures             1.87047             0\n",
       "num_procedures               -0.100741             0\n",
       "num_medications               0.579525             0\n",
       "number_outpatient             0.139759             0\n",
       "number_emergency             0.0795761             0\n",
       "number_inpatient              0.174408             0\n",
       "number_diagnoses              0.409719             0"
      ]
     },
     "execution_count": 80,
     "metadata": {},
     "output_type": "execute_result"
    }
   ],
   "source": [
    "bootstrap_mean_diff(metric_list)"
   ]
  },
  {
   "cell_type": "markdown",
   "metadata": {},
   "source": [
    "From this table, we can see that although the absolute differences is small between the two groups, that all these\n",
    "differences are statistically significant (significantly low pvalue, even after Bonferroni correction). \n",
    "\n",
    "In most of these cases, the story is relatively expected; patients who were readmitted spent more time in the hospital,\n",
    "had more lab procedures, more medications, more diagnoses, and so on. It is interesting to note, that they \n",
    "actually had fewer total procedures performed other than lab procedure, compared to patients who were not readmitted."
   ]
  }
 ],
 "metadata": {
  "kernelspec": {
   "display_name": "Python 3",
   "language": "python",
   "name": "python3"
  },
  "language_info": {
   "codemirror_mode": {
    "name": "ipython",
    "version": 3
   },
   "file_extension": ".py",
   "mimetype": "text/x-python",
   "name": "python",
   "nbconvert_exporter": "python",
   "pygments_lexer": "ipython3",
   "version": "3.7.1"
  }
 },
 "nbformat": 4,
 "nbformat_minor": 2
}
